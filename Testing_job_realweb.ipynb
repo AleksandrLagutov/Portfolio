{
 "cells": [
  {
   "cell_type": "code",
   "execution_count": 5,
   "id": "271066f7",
   "metadata": {},
   "outputs": [],
   "source": [
    "#Ипортируем основные библиотеки"
   ]
  },
  {
   "cell_type": "code",
   "execution_count": 86,
   "id": "9d1a5dac",
   "metadata": {},
   "outputs": [],
   "source": [
    "%matplotlib inline\n",
    "import matplotlib as plt\n",
    "import pandas as pd\n",
    "import regex as re\n",
    "from sklearn import preprocessing \n",
    "label_encoder = preprocessing.LabelEncoder() \n",
    "from sklearn.model_selection import train_test_split\n",
    "from sklearn.metrics import accuracy_score\n",
    "import seaborn as sns\n",
    "import matplotlib.pyplot as plt\n",
    "from sklearn.metrics import confusion_matrix\n",
    "from sklearn.ensemble import RandomForestClassifier\n",
    "from sklearn.model_selection import GridSearchCV\n"
   ]
  },
  {
   "cell_type": "code",
   "execution_count": 2,
   "id": "c6c66a87",
   "metadata": {},
   "outputs": [],
   "source": [
    "#Загружаем данные скачанные с \n",
    "#https://docs.google.com/spreadsheets/d/1nUqniflMlo-kWJk3OjmZYZ1OWVlBLno6/edit#gid=2095307267\n",
    "# формате .csv"
   ]
  },
  {
   "cell_type": "code",
   "execution_count": 3,
   "id": "c603fbdc",
   "metadata": {},
   "outputs": [],
   "source": [
    "data_car = pd.read_csv('auto_complectations.csv')"
   ]
  },
  {
   "cell_type": "code",
   "execution_count": 4,
   "id": "c1b936b3",
   "metadata": {},
   "outputs": [
    {
     "data": {
      "text/html": [
       "<div>\n",
       "<style scoped>\n",
       "    .dataframe tbody tr th:only-of-type {\n",
       "        vertical-align: middle;\n",
       "    }\n",
       "\n",
       "    .dataframe tbody tr th {\n",
       "        vertical-align: top;\n",
       "    }\n",
       "\n",
       "    .dataframe thead th {\n",
       "        text-align: right;\n",
       "    }\n",
       "</style>\n",
       "<table border=\"1\" class=\"dataframe\">\n",
       "  <thead>\n",
       "    <tr style=\"text-align: right;\">\n",
       "      <th></th>\n",
       "      <th>brand</th>\n",
       "      <th>model</th>\n",
       "      <th>complect</th>\n",
       "      <th>type_car</th>\n",
       "      <th>seats</th>\n",
       "      <th>doors</th>\n",
       "      <th>Двигатель</th>\n",
       "      <th>Мощность</th>\n",
       "      <th>Крутящий момент двигателя</th>\n",
       "      <th>Коробка передач</th>\n",
       "      <th>...</th>\n",
       "      <th>Разгон до сотни</th>\n",
       "      <th>Максимальная скорость</th>\n",
       "      <th>Расход топлива (л/100 км)\\nгород / трасса / смешанный</th>\n",
       "      <th>Дорожный просвет</th>\n",
       "      <th>Габариты (длина × ширина × высота)</th>\n",
       "      <th>Колёсная база</th>\n",
       "      <th>Объём багажника</th>\n",
       "      <th>Объём багажника максимальный</th>\n",
       "      <th>Объём топливного бака</th>\n",
       "      <th>Масса автомобиля</th>\n",
       "    </tr>\n",
       "  </thead>\n",
       "  <tbody>\n",
       "    <tr>\n",
       "      <th>0</th>\n",
       "      <td>Audi</td>\n",
       "      <td>A3 Sedan</td>\n",
       "      <td>1.4 TFSI 7AMT</td>\n",
       "      <td>Седан класса C</td>\n",
       "      <td>5</td>\n",
       "      <td>4</td>\n",
       "      <td>бензиновый (1395 см³)</td>\n",
       "      <td>150 л. с.</td>\n",
       "      <td>250 Н·м</td>\n",
       "      <td>роботизированная (7 ступеней)</td>\n",
       "      <td>...</td>\n",
       "      <td>8.2 секунды</td>\n",
       "      <td>224 км/ч</td>\n",
       "      <td>5.9 / 4.1 / 4.8</td>\n",
       "      <td>165 мм</td>\n",
       "      <td>4458 × 1796 × 1416</td>\n",
       "      <td>2637 мм</td>\n",
       "      <td>425 л</td>\n",
       "      <td>880 л</td>\n",
       "      <td>50 л</td>\n",
       "      <td>1320 кг</td>\n",
       "    </tr>\n",
       "    <tr>\n",
       "      <th>1</th>\n",
       "      <td>Audi</td>\n",
       "      <td>A3 Sedan</td>\n",
       "      <td>sport 1.4 TFSI 7AMT</td>\n",
       "      <td>Седан класса C</td>\n",
       "      <td>5</td>\n",
       "      <td>4</td>\n",
       "      <td>бензиновый (1395 см³)</td>\n",
       "      <td>150 л. с.</td>\n",
       "      <td>250 Н·м</td>\n",
       "      <td>роботизированная (7 ступеней)</td>\n",
       "      <td>...</td>\n",
       "      <td>8.2 секунды</td>\n",
       "      <td>224 км/ч</td>\n",
       "      <td>5.9 / 4.1 / 4.8</td>\n",
       "      <td>165 мм</td>\n",
       "      <td>4458 × 1796 × 1416</td>\n",
       "      <td>2637 мм</td>\n",
       "      <td>425 л</td>\n",
       "      <td>880 л</td>\n",
       "      <td>50 л</td>\n",
       "      <td>1320 кг</td>\n",
       "    </tr>\n",
       "    <tr>\n",
       "      <th>2</th>\n",
       "      <td>Audi</td>\n",
       "      <td>A3 Sedan</td>\n",
       "      <td>2.0 TFSI 7AMT</td>\n",
       "      <td>Седан класса C</td>\n",
       "      <td>5</td>\n",
       "      <td>4</td>\n",
       "      <td>бензиновый (1984 см³)</td>\n",
       "      <td>190 л. с.</td>\n",
       "      <td>320 Н·м</td>\n",
       "      <td>роботизированная (7 ступеней)</td>\n",
       "      <td>...</td>\n",
       "      <td>6.8 секунды</td>\n",
       "      <td>250 км/ч</td>\n",
       "      <td>7.2 / 4.7 / 5.6</td>\n",
       "      <td>165 мм</td>\n",
       "      <td>4458 × 1796 × 1416</td>\n",
       "      <td>2637 мм</td>\n",
       "      <td>425 л</td>\n",
       "      <td>880 л</td>\n",
       "      <td>50 л</td>\n",
       "      <td>1395 кг</td>\n",
       "    </tr>\n",
       "    <tr>\n",
       "      <th>3</th>\n",
       "      <td>Audi</td>\n",
       "      <td>A3 Sedan</td>\n",
       "      <td>2.0 TFSI 7AMT quattro</td>\n",
       "      <td>Седан класса C</td>\n",
       "      <td>5</td>\n",
       "      <td>4</td>\n",
       "      <td>бензиновый (1984 см³)</td>\n",
       "      <td>190 л. с.</td>\n",
       "      <td>320 Н·м</td>\n",
       "      <td>роботизированная (7 ступеней)</td>\n",
       "      <td>...</td>\n",
       "      <td>6.2 секунды</td>\n",
       "      <td>242 км/ч</td>\n",
       "      <td>7.2 / 4.8 / 5.7</td>\n",
       "      <td>165 мм</td>\n",
       "      <td>4458 × 1796 × 1416</td>\n",
       "      <td>2637 мм</td>\n",
       "      <td>390 л</td>\n",
       "      <td>845 л</td>\n",
       "      <td>55 л</td>\n",
       "      <td>1465 кг</td>\n",
       "    </tr>\n",
       "    <tr>\n",
       "      <th>4</th>\n",
       "      <td>Audi</td>\n",
       "      <td>A3 Sedan</td>\n",
       "      <td>sport 2.0 TFSI 7AMT</td>\n",
       "      <td>Седан класса C</td>\n",
       "      <td>5</td>\n",
       "      <td>4</td>\n",
       "      <td>бензиновый (1984 см³)</td>\n",
       "      <td>190 л. с.</td>\n",
       "      <td>320 Н·м</td>\n",
       "      <td>роботизированная (7 ступеней)</td>\n",
       "      <td>...</td>\n",
       "      <td>6.8 секунды</td>\n",
       "      <td>242 км/ч</td>\n",
       "      <td>7.2 / 4.7 / 5.6</td>\n",
       "      <td>165 мм</td>\n",
       "      <td>4458 × 1796 × 1416</td>\n",
       "      <td>2637 мм</td>\n",
       "      <td>425 л</td>\n",
       "      <td>880 л</td>\n",
       "      <td>50 л</td>\n",
       "      <td>1395 кг</td>\n",
       "    </tr>\n",
       "  </tbody>\n",
       "</table>\n",
       "<p>5 rows × 21 columns</p>\n",
       "</div>"
      ],
      "text/plain": [
       "  brand     model               complect        type_car  seats  doors  \\\n",
       "0  Audi  A3 Sedan          1.4 TFSI 7AMT  Седан класса C      5      4   \n",
       "1  Audi  A3 Sedan    sport 1.4 TFSI 7AMT  Седан класса C      5      4   \n",
       "2  Audi  A3 Sedan          2.0 TFSI 7AMT  Седан класса C      5      4   \n",
       "3  Audi  A3 Sedan  2.0 TFSI 7AMT quattro  Седан класса C      5      4   \n",
       "4  Audi  A3 Sedan    sport 2.0 TFSI 7AMT  Седан класса C      5      4   \n",
       "\n",
       "               Двигатель   Мощность Крутящий момент двигателя  \\\n",
       "0  бензиновый (1395 см³)  150 л. с.                   250 Н·м   \n",
       "1  бензиновый (1395 см³)  150 л. с.                   250 Н·м   \n",
       "2  бензиновый (1984 см³)  190 л. с.                   320 Н·м   \n",
       "3  бензиновый (1984 см³)  190 л. с.                   320 Н·м   \n",
       "4  бензиновый (1984 см³)  190 л. с.                   320 Н·м   \n",
       "\n",
       "                 Коробка передач  ... Разгон до сотни Максимальная скорость  \\\n",
       "0  роботизированная (7 ступеней)  ...     8.2 секунды              224 км/ч   \n",
       "1  роботизированная (7 ступеней)  ...     8.2 секунды              224 км/ч   \n",
       "2  роботизированная (7 ступеней)  ...     6.8 секунды              250 км/ч   \n",
       "3  роботизированная (7 ступеней)  ...     6.2 секунды              242 км/ч   \n",
       "4  роботизированная (7 ступеней)  ...     6.8 секунды              242 км/ч   \n",
       "\n",
       "  Расход топлива (л/100 км)\\nгород / трасса / смешанный Дорожный просвет  \\\n",
       "0                                    5.9 / 4.1 / 4.8              165 мм   \n",
       "1                                    5.9 / 4.1 / 4.8              165 мм   \n",
       "2                                    7.2 / 4.7 / 5.6              165 мм   \n",
       "3                                    7.2 / 4.8 / 5.7              165 мм   \n",
       "4                                    7.2 / 4.7 / 5.6              165 мм   \n",
       "\n",
       "  Габариты (длина × ширина × высота) Колёсная база Объём багажника  \\\n",
       "0                 4458 × 1796 × 1416       2637 мм           425 л   \n",
       "1                 4458 × 1796 × 1416       2637 мм           425 л   \n",
       "2                 4458 × 1796 × 1416       2637 мм           425 л   \n",
       "3                 4458 × 1796 × 1416       2637 мм           390 л   \n",
       "4                 4458 × 1796 × 1416       2637 мм           425 л   \n",
       "\n",
       "  Объём багажника максимальный Объём топливного бака Масса автомобиля  \n",
       "0                        880 л                  50 л          1320 кг  \n",
       "1                        880 л                  50 л          1320 кг  \n",
       "2                        880 л                  50 л          1395 кг  \n",
       "3                        845 л                  55 л          1465 кг  \n",
       "4                        880 л                  50 л          1395 кг  \n",
       "\n",
       "[5 rows x 21 columns]"
      ]
     },
     "execution_count": 4,
     "metadata": {},
     "output_type": "execute_result"
    }
   ],
   "source": [
    "data_car.head()"
   ]
  },
  {
   "cell_type": "code",
   "execution_count": 5,
   "id": "04d6b342",
   "metadata": {},
   "outputs": [],
   "source": [
    "# Проверка размерности данных"
   ]
  },
  {
   "cell_type": "code",
   "execution_count": 6,
   "id": "3f0915a6",
   "metadata": {
    "scrolled": false
   },
   "outputs": [
    {
     "data": {
      "text/plain": [
       "(1703, 21)"
      ]
     },
     "execution_count": 6,
     "metadata": {},
     "output_type": "execute_result"
    }
   ],
   "source": [
    "data_car.shape"
   ]
  },
  {
   "cell_type": "code",
   "execution_count": 7,
   "id": "a1f7c7ed",
   "metadata": {},
   "outputs": [],
   "source": [
    "# Проверим на наличие пропущенных значений."
   ]
  },
  {
   "cell_type": "code",
   "execution_count": 8,
   "id": "2c0e2897",
   "metadata": {},
   "outputs": [
    {
     "data": {
      "text/plain": [
       "brand                                                    0\n",
       "model                                                    0\n",
       "complect                                                 0\n",
       "type_car                                                 0\n",
       "seats                                                    0\n",
       "doors                                                    0\n",
       "Двигатель                                                0\n",
       "Мощность                                                 0\n",
       "Крутящий момент двигателя                                0\n",
       "Коробка передач                                          0\n",
       "Привод                                                   0\n",
       "Разгон до сотни                                          0\n",
       "Максимальная скорость                                    0\n",
       "Расход топлива (л/100 км)\\nгород / трасса / смешанный    0\n",
       "Дорожный просвет                                         0\n",
       "Габариты (длина × ширина × высота)                       0\n",
       "Колёсная база                                            0\n",
       "Объём багажника                                          0\n",
       "Объём багажника максимальный                             0\n",
       "Объём топливного бака                                    0\n",
       "Масса автомобиля                                         0\n",
       "dtype: int64"
      ]
     },
     "execution_count": 8,
     "metadata": {},
     "output_type": "execute_result"
    }
   ],
   "source": [
    "data_car.isnull().sum()"
   ]
  },
  {
   "cell_type": "code",
   "execution_count": 9,
   "id": "8612af43",
   "metadata": {},
   "outputs": [],
   "source": [
    "# Пропущенных значений в дата фрейме не обнаружено."
   ]
  },
  {
   "cell_type": "code",
   "execution_count": null,
   "id": "51cab839",
   "metadata": {
    "scrolled": true
   },
   "outputs": [],
   "source": []
  },
  {
   "cell_type": "code",
   "execution_count": 10,
   "id": "87c1375a",
   "metadata": {},
   "outputs": [],
   "source": [
    "# проверим количестко уникальних значений в каждой фиче."
   ]
  },
  {
   "cell_type": "code",
   "execution_count": 11,
   "id": "ce48e721",
   "metadata": {},
   "outputs": [
    {
     "data": {
      "text/plain": [
       "brand                                                      27\n",
       "model                                                     246\n",
       "complect                                                 1400\n",
       "type_car                                                   37\n",
       "seats                                                       8\n",
       "doors                                                       7\n",
       "Двигатель                                                 116\n",
       "Мощность                                                  130\n",
       "Крутящий момент двигателя                                 131\n",
       "Коробка передач                                            16\n",
       "Привод                                                      3\n",
       "Разгон до сотни                                           112\n",
       "Максимальная скорость                                      99\n",
       "Расход топлива (л/100 км)\\nгород / трасса / смешанный     558\n",
       "Дорожный просвет                                           89\n",
       "Габариты (длина × ширина × высота)                        278\n",
       "Колёсная база                                             143\n",
       "Объём багажника                                           155\n",
       "Объём багажника максимальный                              194\n",
       "Объём топливного бака                                      55\n",
       "Масса автомобиля                                          423\n",
       "dtype: int64"
      ]
     },
     "execution_count": 11,
     "metadata": {},
     "output_type": "execute_result"
    }
   ],
   "source": [
    "data_car.apply(lambda x : x.unique().size,axis=0)"
   ]
  },
  {
   "cell_type": "code",
   "execution_count": 12,
   "id": "f4ad4bcb",
   "metadata": {},
   "outputs": [
    {
     "data": {
      "text/plain": [
       "82.20786846741045"
      ]
     },
     "execution_count": 12,
     "metadata": {},
     "output_type": "execute_result"
    }
   ],
   "source": [
    "1400*100/1703 "
   ]
  },
  {
   "cell_type": "code",
   "execution_count": null,
   "id": "391997da",
   "metadata": {},
   "outputs": [],
   "source": [
    "\n"
   ]
  },
  {
   "cell_type": "code",
   "execution_count": 13,
   "id": "397a17c3",
   "metadata": {
    "scrolled": true
   },
   "outputs": [
    {
     "data": {
      "text/plain": [
       "brand                                                    object\n",
       "model                                                    object\n",
       "complect                                                 object\n",
       "type_car                                                 object\n",
       "seats                                                     int64\n",
       "doors                                                     int64\n",
       "Двигатель                                                object\n",
       "Мощность                                                 object\n",
       "Крутящий момент двигателя                                object\n",
       "Коробка передач                                          object\n",
       "Привод                                                   object\n",
       "Разгон до сотни                                          object\n",
       "Максимальная скорость                                    object\n",
       "Расход топлива (л/100 км)\\nгород / трасса / смешанный    object\n",
       "Дорожный просвет                                         object\n",
       "Габариты (длина × ширина × высота)                       object\n",
       "Колёсная база                                            object\n",
       "Объём багажника                                          object\n",
       "Объём багажника максимальный                             object\n",
       "Объём топливного бака                                    object\n",
       "Масса автомобиля                                         object\n",
       "dtype: object"
      ]
     },
     "execution_count": 13,
     "metadata": {},
     "output_type": "execute_result"
    }
   ],
   "source": [
    "# Проверим в каких колонках какие типы данных\n",
    "data_car.dtypes"
   ]
  },
  {
   "cell_type": "code",
   "execution_count": 28,
   "id": "5a74e167",
   "metadata": {},
   "outputs": [],
   "source": [
    "# Произведм форматирование фичей, переведем в количественный формат данных те фичи которые возможно:\n",
    "# и запишим получившиеся данные в новый датафрейм для удобства обработки"
   ]
  },
  {
   "cell_type": "code",
   "execution_count": 30,
   "id": "57350de4",
   "metadata": {},
   "outputs": [],
   "source": [
    "df = pd.DataFrame(data_car['brand'].apply(lambda x: len(x)))\n",
    "df['model'] = data_car['model'].apply(lambda x: len(x))\n",
    "df['complect'] = data_car['complect'].apply(lambda x: len(x))\n",
    "# выделим из фичи type_car только класс без подкласса\n",
    "df['type'] = data_car['type_car'].apply(lambda x: x.lower())"
   ]
  },
  {
   "cell_type": "code",
   "execution_count": 32,
   "id": "c326526e",
   "metadata": {},
   "outputs": [
    {
     "data": {
      "text/plain": [
       "array(['седан класса c', 'хэтчбек класса b', 'седан класса d',\n",
       "       'универсал повышенной проходимости класса d', 'универсал класса d',\n",
       "       'купе класса d', 'хэтчбек класса d', 'седан класса e',\n",
       "       'универсал класса e', 'хэтчбек класса e', 'седан класса f',\n",
       "       'большой кроссовер', 'компактный кроссовер',\n",
       "       'среднеразмерный кроссовер', 'купе класса c', 'спорткупе',\n",
       "       'кабриолет с мягкой крышей', 'спорткупе класса d',\n",
       "       'спортседан класса e', 'родстер', 'большой внедорожник',\n",
       "       'седан класса b', 'хэтчбек класса a', 'кроссовер класса b', 'вэн',\n",
       "       'горячий хэтчбек класса c', 'внедорожник класса b',\n",
       "       'среднеразмерный внедорожник', 'хэтчбек класса c',\n",
       "       'универсал класса c', 'спортседан класса d', 'купе класса e',\n",
       "       'пикап', 'горячий седан класса c', 'минивэн', 'компактвэн',\n",
       "       'универсал повышенной проходимости класса e'], dtype=object)"
      ]
     },
     "execution_count": 32,
     "metadata": {},
     "output_type": "execute_result"
    }
   ],
   "source": [
    "df['type'].unique()"
   ]
  },
  {
   "cell_type": "code",
   "execution_count": 33,
   "id": "60a37d3e",
   "metadata": {},
   "outputs": [],
   "source": [
    "list_type = {'внедорожник',\n",
    " 'вэн',\n",
    " 'кабриолет',\n",
    " 'компактвэн',\n",
    " 'кроссовер',\n",
    " 'купе',\n",
    " 'минивэн',\n",
    " 'пикап',\n",
    " 'родстер',\n",
    " 'седан',\n",
    " 'спорткупе',\n",
    " 'спортседан',\n",
    " 'универсал',\n",
    " 'хэтчбек'}"
   ]
  },
  {
   "cell_type": "code",
   "execution_count": 34,
   "id": "68a0dad8",
   "metadata": {},
   "outputs": [],
   "source": [
    "df['type'] = df['type'].apply(lambda s: re.split(' ', s))"
   ]
  },
  {
   "cell_type": "code",
   "execution_count": 35,
   "id": "32dd7dfb",
   "metadata": {},
   "outputs": [],
   "source": [
    "def return_type_car(s):\n",
    "    for i in s:\n",
    "        if i in list_type:\n",
    "            return i\n",
    "df['type'] = df['type'].apply(lambda s: return_type_car(s))"
   ]
  },
  {
   "cell_type": "code",
   "execution_count": 36,
   "id": "0183f13b",
   "metadata": {},
   "outputs": [],
   "source": [
    "df['seats'] = data_car['seats']\n",
    "df['doors'] = data_car['doors']\n"
   ]
  },
  {
   "cell_type": "code",
   "execution_count": 37,
   "id": "8488cc81",
   "metadata": {},
   "outputs": [
    {
     "data": {
      "text/plain": [
       "0       бензиновый (1395 см³)\n",
       "1       бензиновый (1395 см³)\n",
       "2       бензиновый (1984 см³)\n",
       "3       бензиновый (1984 см³)\n",
       "4       бензиновый (1984 см³)\n",
       "                ...          \n",
       "1698     дизельный (1969 см³)\n",
       "1699    бензиновый (1969 см³)\n",
       "1700     дизельный (1969 см³)\n",
       "1701     гибридный (1969 см³)\n",
       "1702     гибридный (1969 см³)\n",
       "Name: Двигатель, Length: 1703, dtype: object"
      ]
     },
     "execution_count": 37,
     "metadata": {},
     "output_type": "execute_result"
    }
   ],
   "source": [
    "# Преобразуем колонку Двигатель в две фичи \"тип двигателя\" \"объемдвигателя\"\n",
    "data_car['Двигатель']"
   ]
  },
  {
   "cell_type": "code",
   "execution_count": 38,
   "id": "a81669d0",
   "metadata": {},
   "outputs": [],
   "source": [
    "for _ in ['(', 'см³', ')']: \n",
    "     data_car['Двигатель'] = data_car['Двигатель'].str.replace(_, \"\", regex=False)"
   ]
  },
  {
   "cell_type": "code",
   "execution_count": 39,
   "id": "2518f799",
   "metadata": {},
   "outputs": [],
   "source": [
    " temp_engen = data_car['Двигатель'].apply(lambda x: x.split())\n"
   ]
  },
  {
   "cell_type": "code",
   "execution_count": 72,
   "id": "d659e2d4",
   "metadata": {},
   "outputs": [],
   "source": [
    "df['engen_type'] = temp_engen.str.get(0)\n",
    "df['engen_type'] = label_encoder.fit_transform(df['engen_type'])\n",
    "df['engen_vol'] = pd.to_numeric(temp_engen.str.get(-1))\n"
   ]
  },
  {
   "cell_type": "code",
   "execution_count": 73,
   "id": "fba5db3f",
   "metadata": {},
   "outputs": [
    {
     "data": {
      "text/plain": [
       "array([0, 2, 3, 1])"
      ]
     },
     "execution_count": 73,
     "metadata": {},
     "output_type": "execute_result"
    }
   ],
   "source": [
    "df['engen_type'].unique()"
   ]
  },
  {
   "cell_type": "code",
   "execution_count": 42,
   "id": "e91a463d",
   "metadata": {},
   "outputs": [],
   "source": [
    "df['Мощность'] = pd.to_numeric(data_car['Мощность'].str.replace(' л. с.', '', regex=False))\n",
    "df['Момент'] = pd.to_numeric(data_car['Крутящий момент двигателя'].str.replace(' Н·м', '', regex=False))"
   ]
  },
  {
   "cell_type": "code",
   "execution_count": 43,
   "id": "edc801ad",
   "metadata": {},
   "outputs": [],
   "source": [
    "tmp_transm = data_car['Коробка передач'].apply(lambda x: x.split(' '))"
   ]
  },
  {
   "cell_type": "code",
   "execution_count": 74,
   "id": "042af9ff",
   "metadata": {},
   "outputs": [],
   "source": [
    "df['taransm_type'] = tmp_transm.str.get(0)\n",
    "df['taransm_type'] = label_encoder.fit_transform(df['taransm_type'])"
   ]
  },
  {
   "cell_type": "code",
   "execution_count": 76,
   "id": "3b54db62",
   "metadata": {},
   "outputs": [],
   "source": [
    "df['taransm_level'] = pd.to_numeric(tmp_transm.str.get(1).str.replace('(', '', regex=False))"
   ]
  },
  {
   "cell_type": "code",
   "execution_count": 46,
   "id": "a5e7288e",
   "metadata": {
    "scrolled": true
   },
   "outputs": [
    {
     "data": {
      "text/plain": [
       "array(['передний', 'полный', 'задний'], dtype=object)"
      ]
     },
     "execution_count": 46,
     "metadata": {},
     "output_type": "execute_result"
    }
   ],
   "source": [
    "data_car['Привод'].unique()"
   ]
  },
  {
   "cell_type": "code",
   "execution_count": 78,
   "id": "170f3d25",
   "metadata": {},
   "outputs": [],
   "source": [
    "df['привод'] = label_encoder.fit_transform(df['привод'])"
   ]
  },
  {
   "cell_type": "code",
   "execution_count": 48,
   "id": "587b5d6c",
   "metadata": {},
   "outputs": [],
   "source": [
    "tmp_acceleration = data_car['Разгон до сотни'].apply(lambda x: x.split(' ')).str.get(0)"
   ]
  },
  {
   "cell_type": "code",
   "execution_count": 49,
   "id": "d6d85a70",
   "metadata": {},
   "outputs": [
    {
     "data": {
      "text/plain": [
       "array(['8.2', '6.8', '6.2', '8.9', '7.1', '5.8', '9.2', '7.3', '5.7',\n",
       "       '9.1', '7.5', '6', '7.9', '8.4', '6.5', '5.1', '8.1', '8.6', '6.3',\n",
       "       '5.3', '5.6', '6.6', '4.4', '4.5', '7.4', '6.9', '7', '5.9', '4.6',\n",
       "       '3.8', '5.4', '4.8', '8.8', '8.7', '7.7', '8.3', '7.6', '7.2',\n",
       "       '7.8', '4', '4.7', '8', '5.2', '3.7', '4.9', '3.9', '4.2', '3.3',\n",
       "       '3.4', '3.2', '9.7', '9.3', '9.6', '9.4', '4.1', '6.4', '5.5',\n",
       "       '4.3', '6.1', '6.7', '9.9', '11.7', '12.6', '12.2', '12.3', '12.4',\n",
       "       '14', '10.6', '10.9', '12.5', '11.4', '12.7', 'нет', '12.1',\n",
       "       '12.9', '13.1', '10.7', '11.3', '11.6', '17.6', '14.4', '10.5',\n",
       "       '10.4', '10.3', '9', '11.2', '11.1', '11.8', '9.5', '11.9', '10.2',\n",
       "       '9.8', '5', '11.5', '10.8', '14.1', '13.4', '10.1', '12', '8.5',\n",
       "       '3.6', '11', '13.3', '15.2', '13.2', '13.9', '13.5', '13', '10',\n",
       "       '13.8', '13.7', '12.8'], dtype=object)"
      ]
     },
     "execution_count": 49,
     "metadata": {},
     "output_type": "execute_result"
    }
   ],
   "source": [
    "# В данных есть пропущенные значения 'нет'\n",
    "tmp_acceleration.unique()"
   ]
  },
  {
   "cell_type": "code",
   "execution_count": 50,
   "id": "97996892",
   "metadata": {},
   "outputs": [
    {
     "data": {
      "text/plain": [
       "71"
      ]
     },
     "execution_count": 50,
     "metadata": {},
     "output_type": "execute_result"
    }
   ],
   "source": [
    "tmp_acceleration[tmp_acceleration == 'нет'].count()"
   ]
  },
  {
   "cell_type": "code",
   "execution_count": 51,
   "id": "19c59a81",
   "metadata": {},
   "outputs": [],
   "source": [
    "# Заменим \"нет\" на 0"
   ]
  },
  {
   "cell_type": "code",
   "execution_count": 52,
   "id": "3f013e3b",
   "metadata": {},
   "outputs": [],
   "source": [
    "tmp_acceleration[tmp_acceleration == 'нет'] = 0"
   ]
  },
  {
   "cell_type": "code",
   "execution_count": 53,
   "id": "706c5ad4",
   "metadata": {},
   "outputs": [],
   "source": [
    "df['разгон'] = pd.to_numeric(tmp_acceleration)"
   ]
  },
  {
   "cell_type": "code",
   "execution_count": 54,
   "id": "be103954",
   "metadata": {},
   "outputs": [],
   "source": [
    "tmp_speed = data_car['Максимальная скорость'].apply(lambda x: x.split(' ')).str.get(0)"
   ]
  },
  {
   "cell_type": "code",
   "execution_count": 55,
   "id": "592258d1",
   "metadata": {},
   "outputs": [
    {
     "data": {
      "text/plain": [
       "array(['224', '250', '242', '220', '244', '236', '210', '241', '225',\n",
       "       '223', '237', '232', '200', '207', '215', '226', '235', '230',\n",
       "       '233', '240', '150', '160', '280', '305', '204', '205', '206',\n",
       "       '213', '234', '222', '243', '245', '227', '180', '169', '170',\n",
       "       '178', '179', '161', '165', '183', '189', '188', '187', '198',\n",
       "       '211', '184', '190', '167', '195', '203', '168', '185', '193',\n",
       "       '192', '186', '181', '201', '216', '208', '217', '283', '275',\n",
       "       '322', '228', '0', '257', '196', '202', '176', '174', '175', '182',\n",
       "       '270', '191', '209', '218', '274', '177', '239', '199', '290',\n",
       "       '229', '231', '238', '246', '318', '285', '315', '194', '173',\n",
       "       '171', '166', '172', '163', '219', '145', '140', '157'],\n",
       "      dtype=object)"
      ]
     },
     "execution_count": 55,
     "metadata": {},
     "output_type": "execute_result"
    }
   ],
   "source": [
    "tmp_speed.unique()"
   ]
  },
  {
   "cell_type": "code",
   "execution_count": 56,
   "id": "2ac36e99",
   "metadata": {},
   "outputs": [],
   "source": [
    "df['max_spees'] = pd.to_numeric(tmp_speed)"
   ]
  },
  {
   "cell_type": "code",
   "execution_count": 57,
   "id": "4caace90",
   "metadata": {},
   "outputs": [],
   "source": [
    "tmp_rate =  data_car['Расход топлива (л/100 км)\\nгород / трасса / смешанный'].apply(lambda x: x.split('/'))"
   ]
  },
  {
   "cell_type": "code",
   "execution_count": 58,
   "id": "6bfe5874",
   "metadata": {},
   "outputs": [],
   "source": [
    "df['rate_city'] =pd.to_numeric(tmp_rate.str.get(0))\n",
    "df['rate_highway'] = pd.to_numeric(tmp_rate.str.get(1))\n",
    "df['rate_combi'] = pd.to_numeric(tmp_rate.str.get(2))"
   ]
  },
  {
   "cell_type": "code",
   "execution_count": 59,
   "id": "89099890",
   "metadata": {},
   "outputs": [],
   "source": [
    "df['клиренс'] = pd.to_numeric(data_car['Дорожный просвет'].str.replace(' мм', '', regex=False))"
   ]
  },
  {
   "cell_type": "code",
   "execution_count": 60,
   "id": "b2fd8660",
   "metadata": {},
   "outputs": [],
   "source": [
    "tmp_profile = data_car['Габариты (длина × ширина × высота)'].apply(lambda x: x.split(' × '))"
   ]
  },
  {
   "cell_type": "code",
   "execution_count": 61,
   "id": "f82cc5bf",
   "metadata": {},
   "outputs": [],
   "source": [
    "df['car_length'] =pd.to_numeric(tmp_profile.str.get(0))\n",
    "df['rate_width'] = pd.to_numeric(tmp_profile.str.get(1))\n",
    "df['rate_height'] = pd.to_numeric(tmp_profile.str.get(2))"
   ]
  },
  {
   "cell_type": "code",
   "execution_count": 62,
   "id": "302388cb",
   "metadata": {},
   "outputs": [],
   "source": [
    "df['wheelbase'] = pd.to_numeric(data_car['Колёсная база'].str.replace(' мм', '', regex=False))"
   ]
  },
  {
   "cell_type": "code",
   "execution_count": 63,
   "id": "312aef6a",
   "metadata": {},
   "outputs": [],
   "source": [
    "df['vol_trunk'] = pd.to_numeric(data_car['Объём багажника'].str.replace(' л', '', regex=False))\n",
    "df['max_vol_trunk'] = pd.to_numeric(data_car['Объём багажника максимальный'].str.replace(' л', '', regex=False))\n",
    "df['fuel_trunk'] = pd.to_numeric(data_car['Объём топливного бака'].str.replace(' л', '', regex=False))"
   ]
  },
  {
   "cell_type": "code",
   "execution_count": 64,
   "id": "789826dd",
   "metadata": {},
   "outputs": [],
   "source": [
    "df['mass'] = pd.to_numeric(data_car['Масса автомобиля'].str.replace(' кг', '', regex=False))"
   ]
  },
  {
   "cell_type": "code",
   "execution_count": 79,
   "id": "9639c6f7",
   "metadata": {
    "scrolled": true
   },
   "outputs": [
    {
     "data": {
      "text/html": [
       "<div>\n",
       "<style scoped>\n",
       "    .dataframe tbody tr th:only-of-type {\n",
       "        vertical-align: middle;\n",
       "    }\n",
       "\n",
       "    .dataframe tbody tr th {\n",
       "        vertical-align: top;\n",
       "    }\n",
       "\n",
       "    .dataframe thead th {\n",
       "        text-align: right;\n",
       "    }\n",
       "</style>\n",
       "<table border=\"1\" class=\"dataframe\">\n",
       "  <thead>\n",
       "    <tr style=\"text-align: right;\">\n",
       "      <th></th>\n",
       "      <th>brand</th>\n",
       "      <th>model</th>\n",
       "      <th>complect</th>\n",
       "      <th>type</th>\n",
       "      <th>seats</th>\n",
       "      <th>doors</th>\n",
       "      <th>engen_type</th>\n",
       "      <th>engen_vol</th>\n",
       "      <th>Мощность</th>\n",
       "      <th>Момент</th>\n",
       "      <th>...</th>\n",
       "      <th>rate_combi</th>\n",
       "      <th>клиренс</th>\n",
       "      <th>car_length</th>\n",
       "      <th>rate_width</th>\n",
       "      <th>rate_height</th>\n",
       "      <th>wheelbase</th>\n",
       "      <th>vol_trunk</th>\n",
       "      <th>max_vol_trunk</th>\n",
       "      <th>fuel_trunk</th>\n",
       "      <th>mass</th>\n",
       "    </tr>\n",
       "  </thead>\n",
       "  <tbody>\n",
       "    <tr>\n",
       "      <th>0</th>\n",
       "      <td>4</td>\n",
       "      <td>8</td>\n",
       "      <td>13</td>\n",
       "      <td>седан</td>\n",
       "      <td>5</td>\n",
       "      <td>4</td>\n",
       "      <td>0</td>\n",
       "      <td>1395</td>\n",
       "      <td>150</td>\n",
       "      <td>250</td>\n",
       "      <td>...</td>\n",
       "      <td>4.8</td>\n",
       "      <td>165</td>\n",
       "      <td>4458</td>\n",
       "      <td>1796</td>\n",
       "      <td>1416</td>\n",
       "      <td>2637</td>\n",
       "      <td>425</td>\n",
       "      <td>880</td>\n",
       "      <td>50</td>\n",
       "      <td>1320</td>\n",
       "    </tr>\n",
       "    <tr>\n",
       "      <th>1</th>\n",
       "      <td>4</td>\n",
       "      <td>8</td>\n",
       "      <td>19</td>\n",
       "      <td>седан</td>\n",
       "      <td>5</td>\n",
       "      <td>4</td>\n",
       "      <td>0</td>\n",
       "      <td>1395</td>\n",
       "      <td>150</td>\n",
       "      <td>250</td>\n",
       "      <td>...</td>\n",
       "      <td>4.8</td>\n",
       "      <td>165</td>\n",
       "      <td>4458</td>\n",
       "      <td>1796</td>\n",
       "      <td>1416</td>\n",
       "      <td>2637</td>\n",
       "      <td>425</td>\n",
       "      <td>880</td>\n",
       "      <td>50</td>\n",
       "      <td>1320</td>\n",
       "    </tr>\n",
       "    <tr>\n",
       "      <th>2</th>\n",
       "      <td>4</td>\n",
       "      <td>8</td>\n",
       "      <td>13</td>\n",
       "      <td>седан</td>\n",
       "      <td>5</td>\n",
       "      <td>4</td>\n",
       "      <td>0</td>\n",
       "      <td>1984</td>\n",
       "      <td>190</td>\n",
       "      <td>320</td>\n",
       "      <td>...</td>\n",
       "      <td>5.6</td>\n",
       "      <td>165</td>\n",
       "      <td>4458</td>\n",
       "      <td>1796</td>\n",
       "      <td>1416</td>\n",
       "      <td>2637</td>\n",
       "      <td>425</td>\n",
       "      <td>880</td>\n",
       "      <td>50</td>\n",
       "      <td>1395</td>\n",
       "    </tr>\n",
       "    <tr>\n",
       "      <th>3</th>\n",
       "      <td>4</td>\n",
       "      <td>8</td>\n",
       "      <td>21</td>\n",
       "      <td>седан</td>\n",
       "      <td>5</td>\n",
       "      <td>4</td>\n",
       "      <td>0</td>\n",
       "      <td>1984</td>\n",
       "      <td>190</td>\n",
       "      <td>320</td>\n",
       "      <td>...</td>\n",
       "      <td>5.7</td>\n",
       "      <td>165</td>\n",
       "      <td>4458</td>\n",
       "      <td>1796</td>\n",
       "      <td>1416</td>\n",
       "      <td>2637</td>\n",
       "      <td>390</td>\n",
       "      <td>845</td>\n",
       "      <td>55</td>\n",
       "      <td>1465</td>\n",
       "    </tr>\n",
       "    <tr>\n",
       "      <th>4</th>\n",
       "      <td>4</td>\n",
       "      <td>8</td>\n",
       "      <td>19</td>\n",
       "      <td>седан</td>\n",
       "      <td>5</td>\n",
       "      <td>4</td>\n",
       "      <td>0</td>\n",
       "      <td>1984</td>\n",
       "      <td>190</td>\n",
       "      <td>320</td>\n",
       "      <td>...</td>\n",
       "      <td>5.6</td>\n",
       "      <td>165</td>\n",
       "      <td>4458</td>\n",
       "      <td>1796</td>\n",
       "      <td>1416</td>\n",
       "      <td>2637</td>\n",
       "      <td>425</td>\n",
       "      <td>880</td>\n",
       "      <td>50</td>\n",
       "      <td>1395</td>\n",
       "    </tr>\n",
       "    <tr>\n",
       "      <th>...</th>\n",
       "      <td>...</td>\n",
       "      <td>...</td>\n",
       "      <td>...</td>\n",
       "      <td>...</td>\n",
       "      <td>...</td>\n",
       "      <td>...</td>\n",
       "      <td>...</td>\n",
       "      <td>...</td>\n",
       "      <td>...</td>\n",
       "      <td>...</td>\n",
       "      <td>...</td>\n",
       "      <td>...</td>\n",
       "      <td>...</td>\n",
       "      <td>...</td>\n",
       "      <td>...</td>\n",
       "      <td>...</td>\n",
       "      <td>...</td>\n",
       "      <td>...</td>\n",
       "      <td>...</td>\n",
       "      <td>...</td>\n",
       "      <td>...</td>\n",
       "    </tr>\n",
       "    <tr>\n",
       "      <th>1698</th>\n",
       "      <td>5</td>\n",
       "      <td>4</td>\n",
       "      <td>17</td>\n",
       "      <td>кроссовер</td>\n",
       "      <td>5</td>\n",
       "      <td>5</td>\n",
       "      <td>2</td>\n",
       "      <td>1969</td>\n",
       "      <td>235</td>\n",
       "      <td>480</td>\n",
       "      <td>...</td>\n",
       "      <td>5.8</td>\n",
       "      <td>237</td>\n",
       "      <td>4950</td>\n",
       "      <td>2008</td>\n",
       "      <td>1776</td>\n",
       "      <td>2984</td>\n",
       "      <td>721</td>\n",
       "      <td>1899</td>\n",
       "      <td>71</td>\n",
       "      <td>1969</td>\n",
       "    </tr>\n",
       "    <tr>\n",
       "      <th>1699</th>\n",
       "      <td>5</td>\n",
       "      <td>4</td>\n",
       "      <td>17</td>\n",
       "      <td>кроссовер</td>\n",
       "      <td>7</td>\n",
       "      <td>5</td>\n",
       "      <td>0</td>\n",
       "      <td>1969</td>\n",
       "      <td>320</td>\n",
       "      <td>400</td>\n",
       "      <td>...</td>\n",
       "      <td>8.3</td>\n",
       "      <td>237</td>\n",
       "      <td>4950</td>\n",
       "      <td>2008</td>\n",
       "      <td>1776</td>\n",
       "      <td>2984</td>\n",
       "      <td>692</td>\n",
       "      <td>1899</td>\n",
       "      <td>71</td>\n",
       "      <td>2004</td>\n",
       "    </tr>\n",
       "    <tr>\n",
       "      <th>1700</th>\n",
       "      <td>5</td>\n",
       "      <td>4</td>\n",
       "      <td>17</td>\n",
       "      <td>кроссовер</td>\n",
       "      <td>7</td>\n",
       "      <td>5</td>\n",
       "      <td>2</td>\n",
       "      <td>1969</td>\n",
       "      <td>235</td>\n",
       "      <td>480</td>\n",
       "      <td>...</td>\n",
       "      <td>5.8</td>\n",
       "      <td>237</td>\n",
       "      <td>4950</td>\n",
       "      <td>2008</td>\n",
       "      <td>1776</td>\n",
       "      <td>2984</td>\n",
       "      <td>692</td>\n",
       "      <td>1899</td>\n",
       "      <td>71</td>\n",
       "      <td>2009</td>\n",
       "    </tr>\n",
       "    <tr>\n",
       "      <th>1701</th>\n",
       "      <td>5</td>\n",
       "      <td>4</td>\n",
       "      <td>20</td>\n",
       "      <td>кроссовер</td>\n",
       "      <td>7</td>\n",
       "      <td>5</td>\n",
       "      <td>1</td>\n",
       "      <td>1969</td>\n",
       "      <td>407</td>\n",
       "      <td>640</td>\n",
       "      <td>...</td>\n",
       "      <td>2.1</td>\n",
       "      <td>237</td>\n",
       "      <td>4950</td>\n",
       "      <td>2008</td>\n",
       "      <td>1776</td>\n",
       "      <td>2984</td>\n",
       "      <td>640</td>\n",
       "      <td>1899</td>\n",
       "      <td>70</td>\n",
       "      <td>2350</td>\n",
       "    </tr>\n",
       "    <tr>\n",
       "      <th>1702</th>\n",
       "      <td>5</td>\n",
       "      <td>4</td>\n",
       "      <td>17</td>\n",
       "      <td>кроссовер</td>\n",
       "      <td>7</td>\n",
       "      <td>5</td>\n",
       "      <td>1</td>\n",
       "      <td>1969</td>\n",
       "      <td>407</td>\n",
       "      <td>640</td>\n",
       "      <td>...</td>\n",
       "      <td>2.1</td>\n",
       "      <td>237</td>\n",
       "      <td>4950</td>\n",
       "      <td>2008</td>\n",
       "      <td>1776</td>\n",
       "      <td>2984</td>\n",
       "      <td>640</td>\n",
       "      <td>1899</td>\n",
       "      <td>70</td>\n",
       "      <td>2350</td>\n",
       "    </tr>\n",
       "  </tbody>\n",
       "</table>\n",
       "<p>1703 rows × 27 columns</p>\n",
       "</div>"
      ],
      "text/plain": [
       "      brand  model  complect       type  seats  doors  engen_type  engen_vol  \\\n",
       "0         4      8        13      седан      5      4           0       1395   \n",
       "1         4      8        19      седан      5      4           0       1395   \n",
       "2         4      8        13      седан      5      4           0       1984   \n",
       "3         4      8        21      седан      5      4           0       1984   \n",
       "4         4      8        19      седан      5      4           0       1984   \n",
       "...     ...    ...       ...        ...    ...    ...         ...        ...   \n",
       "1698      5      4        17  кроссовер      5      5           2       1969   \n",
       "1699      5      4        17  кроссовер      7      5           0       1969   \n",
       "1700      5      4        17  кроссовер      7      5           2       1969   \n",
       "1701      5      4        20  кроссовер      7      5           1       1969   \n",
       "1702      5      4        17  кроссовер      7      5           1       1969   \n",
       "\n",
       "      Мощность  Момент  ...  rate_combi  клиренс  car_length  rate_width  \\\n",
       "0          150     250  ...         4.8      165        4458        1796   \n",
       "1          150     250  ...         4.8      165        4458        1796   \n",
       "2          190     320  ...         5.6      165        4458        1796   \n",
       "3          190     320  ...         5.7      165        4458        1796   \n",
       "4          190     320  ...         5.6      165        4458        1796   \n",
       "...        ...     ...  ...         ...      ...         ...         ...   \n",
       "1698       235     480  ...         5.8      237        4950        2008   \n",
       "1699       320     400  ...         8.3      237        4950        2008   \n",
       "1700       235     480  ...         5.8      237        4950        2008   \n",
       "1701       407     640  ...         2.1      237        4950        2008   \n",
       "1702       407     640  ...         2.1      237        4950        2008   \n",
       "\n",
       "      rate_height  wheelbase  vol_trunk  max_vol_trunk  fuel_trunk  mass  \n",
       "0            1416       2637        425            880          50  1320  \n",
       "1            1416       2637        425            880          50  1320  \n",
       "2            1416       2637        425            880          50  1395  \n",
       "3            1416       2637        390            845          55  1465  \n",
       "4            1416       2637        425            880          50  1395  \n",
       "...           ...        ...        ...            ...         ...   ...  \n",
       "1698         1776       2984        721           1899          71  1969  \n",
       "1699         1776       2984        692           1899          71  2004  \n",
       "1700         1776       2984        692           1899          71  2009  \n",
       "1701         1776       2984        640           1899          70  2350  \n",
       "1702         1776       2984        640           1899          70  2350  \n",
       "\n",
       "[1703 rows x 27 columns]"
      ]
     },
     "execution_count": 79,
     "metadata": {},
     "output_type": "execute_result"
    }
   ],
   "source": [
    "# После всех преобразование дата фрем приобред следующий вид\n",
    "df"
   ]
  },
  {
   "cell_type": "code",
   "execution_count": null,
   "id": "77422ae6",
   "metadata": {},
   "outputs": [],
   "source": [
    "df.dtypes"
   ]
  },
  {
   "cell_type": "code",
   "execution_count": 147,
   "id": "0d2b59b4",
   "metadata": {
    "scrolled": true
   },
   "outputs": [
    {
     "data": {
      "text/plain": [
       "brand             27\n",
       "model            246\n",
       "type              14\n",
       "seats              8\n",
       "doors              7\n",
       "engen_type         4\n",
       "engen_vol         96\n",
       "Мощность         130\n",
       "Момент           131\n",
       "taransm_type       4\n",
       "taransm_level      9\n",
       "привод             3\n",
       "разгон           112\n",
       "max_spees         99\n",
       "rate_city        120\n",
       "rate_highway      69\n",
       "rate_combi        93\n",
       "клиренс           89\n",
       "car_length       212\n",
       "rate_width       132\n",
       "rate_height      190\n",
       "wheelbase        143\n",
       "vol_trunk        155\n",
       "max_vol_trunk    194\n",
       "fuel_trunk        55\n",
       "mass             423\n",
       "dtype: int64"
      ]
     },
     "execution_count": 147,
     "metadata": {},
     "output_type": "execute_result"
    }
   ],
   "source": [
    "df.apply(lambda x : x.unique().size,axis=0)"
   ]
  },
  {
   "cell_type": "code",
   "execution_count": null,
   "id": "2082b967",
   "metadata": {},
   "outputs": [],
   "source": [
    "# В кочестве первоночального классификатора возьмем Наивный Бейсовский Классификатор "
   ]
  },
  {
   "cell_type": "code",
   "execution_count": 312,
   "id": "41dc4026",
   "metadata": {},
   "outputs": [],
   "source": [
    "from sklearn.naive_bayes import MultinomialNB"
   ]
  },
  {
   "cell_type": "code",
   "execution_count": 313,
   "id": "9309120c",
   "metadata": {},
   "outputs": [],
   "source": [
    "X = df.drop(['type'], axis=1)\n",
    "y = df['type']"
   ]
  },
  {
   "cell_type": "code",
   "execution_count": 314,
   "id": "9a7ef65a",
   "metadata": {},
   "outputs": [],
   "source": [
    "name = df['type'].unique()"
   ]
  },
  {
   "cell_type": "code",
   "execution_count": 315,
   "id": "421332b2",
   "metadata": {},
   "outputs": [],
   "source": [
    "\n",
    "y = label_encoder.fit_transform(y)"
   ]
  },
  {
   "cell_type": "code",
   "execution_count": 316,
   "id": "06c9b79f",
   "metadata": {},
   "outputs": [],
   "source": [
    "# Разделим данные на учебные и тестовые выборки "
   ]
  },
  {
   "cell_type": "code",
   "execution_count": 317,
   "id": "08118e2d",
   "metadata": {},
   "outputs": [
    {
     "data": {
      "text/plain": [
       "MultinomialNB()"
      ]
     },
     "execution_count": 317,
     "metadata": {},
     "output_type": "execute_result"
    }
   ],
   "source": [
    "X_train, X_test, y_train, y_test = train_test_split(X,y,train_size=0.3)\n",
    "model = MultinomialNB()\n",
    "model.fit(X_train, y_train)"
   ]
  },
  {
   "cell_type": "code",
   "execution_count": 318,
   "id": "3662bcf1",
   "metadata": {},
   "outputs": [],
   "source": [
    "labes = model.predict(X_test)\n"
   ]
  },
  {
   "cell_type": "code",
   "execution_count": 319,
   "id": "d7b1e59b",
   "metadata": {
    "scrolled": false
   },
   "outputs": [
    {
     "data": {
      "text/plain": [
       "Text(91.68, 0.5, 'predict label')"
      ]
     },
     "execution_count": 319,
     "metadata": {},
     "output_type": "execute_result"
    },
    {
     "data": {
      "image/png": "[encoded data removed]",
      "text/plain": [
       "<Figure size 432x288 with 1 Axes>"
      ]
     },
     "metadata": {
      "needs_background": "light"
     },
     "output_type": "display_data"
    }
   ],
   "source": [
    "mat = confusion_matrix(y_test, labes)\n",
    "sns.heatmap(mat.T, square=True, annot=True, fmt='d', cbar=False,\n",
    "           xticklabels=name, yticklabels=name)\n",
    "plt.xlabel('true label')\n",
    "plt.ylabel('predict label')"
   ]
  },
  {
   "cell_type": "code",
   "execution_count": 320,
   "id": "4214c370",
   "metadata": {},
   "outputs": [],
   "source": [
    "# Точность классификатора составила "
   ]
  },
  {
   "cell_type": "code",
   "execution_count": 321,
   "id": "7c58a694",
   "metadata": {
    "scrolled": false
   },
   "outputs": [
    {
     "data": {
      "text/plain": [
       "0.625314333612741"
      ]
     },
     "execution_count": 321,
     "metadata": {},
     "output_type": "execute_result"
    }
   ],
   "source": [
    "accuracy_score(y_test, labes)"
   ]
  },
  {
   "cell_type": "code",
   "execution_count": 322,
   "id": "734e9007",
   "metadata": {},
   "outputs": [],
   "source": [
    "# В качестве второго классификатора воспользуемся ансамблем решающих деревьев \n",
    "# И подбором наилучших параметров через GridSearchCV"
   ]
  },
  {
   "cell_type": "code",
   "execution_count": 330,
   "id": "015c5235",
   "metadata": {},
   "outputs": [
    {
     "name": "stderr",
     "output_type": "stream",
     "text": [
      "c:\\users\\lagutov\\appdata\\local\\programs\\python\\python39\\lib\\site-packages\\sklearn\\model_selection\\_split.py:666: UserWarning: The least populated class in y has only 1 members, which is less than n_splits=3.\n",
      "  warnings.warn((\"The least populated class in y has only %d\"\n"
     ]
    },
    {
     "data": {
      "text/plain": [
       "{'max_depth': 47,\n",
       " 'min_samples_leaf': 1,\n",
       " 'min_samples_split': 2,\n",
       " 'n_estimators': 51}"
      ]
     },
     "execution_count": 330,
     "metadata": {},
     "output_type": "execute_result"
    }
   ],
   "source": [
    "params = {\n",
    "    'n_estimators':range(45,55,1),\n",
    "    'max_depth':range(45,60,2),\n",
    "    'min_samples_leaf':range(1,5,1),\n",
    "    'min_samples_split':range(2,5,1)  \n",
    "}\n",
    "\n",
    "clf_f = RandomForestClassifier(criterion='gini')\n",
    "grid_serch_clf = GridSearchCV(clf_f,params,cv=3)\n",
    "grid_serch_clf.fit(X_train,y_train)\n",
    "grid_serch_clf.best_params_"
   ]
  },
  {
   "cell_type": "code",
   "execution_count": 331,
   "id": "bf088ec2",
   "metadata": {
    "scrolled": true
   },
   "outputs": [
    {
     "data": {
      "text/plain": [
       "0.9656328583403185"
      ]
     },
     "execution_count": 331,
     "metadata": {},
     "output_type": "execute_result"
    }
   ],
   "source": [
    "predicted_y =  grid_serch_clf.predict(X_test)\n",
    "accuracy_score(y_test, predicted_y)"
   ]
  },
  {
   "cell_type": "code",
   "execution_count": null,
   "id": "11b64bc5",
   "metadata": {},
   "outputs": [],
   "source": [
    "# Точность предсказания составила 0,96 при обучающей  выборке в 0,3"
   ]
  }
 ],
 "metadata": {
  "kernelspec": {
   "display_name": "Python 3 (ipykernel)",
   "language": "python",
   "name": "python3"
  },
  "language_info": {
   "codemirror_mode": {
    "name": "ipython",
    "version": 3
   },
   "file_extension": ".py",
   "mimetype": "text/x-python",
   "name": "python",
   "nbconvert_exporter": "python",
   "pygments_lexer": "ipython3",
   "version": "3.9.2"
  }
 },
 "nbformat": 4,
 "nbformat_minor": 5
}
