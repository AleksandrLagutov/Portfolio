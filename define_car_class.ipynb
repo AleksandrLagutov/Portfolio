{
 "cells": [
  {
   "cell_type": "markdown",
   "metadata": {},
   "source": [
    "Добрый день. Я делал проект с большим перерывом, был в отпуске, возможно где то может показаться, что все запутано, но это не так :)"
   ]
  },
  {
   "cell_type": "markdown",
   "metadata": {},
   "source": [
    "# Определение стоимости автомобилей"
   ]
  },
  {
   "cell_type": "markdown",
   "metadata": {},
   "source": [
    "Сервис по продаже автомобилей с пробегом «Не бит, не крашен» разрабатывает приложение для привлечения новых клиентов. В нём можно быстро узнать рыночную стоимость своего автомобиля. В вашем распоряжении исторические данные: технические характеристики, комплектации и цены автомобилей. Вам нужно построить модель для определения стоимости. \n",
    "\n",
    "Заказчику важны:\n",
    "\n",
    "- качество предсказания;\n",
    "- скорость предсказания;\n",
    "- время обучения."
   ]
  },
  {
   "cell_type": "markdown",
   "metadata": {},
   "source": [
    "# Описание данных"
   ]
  },
  {
   "cell_type": "markdown",
   "metadata": {},
   "source": [
    "*Признаки*\n",
    "\n",
    "- `DateCrawled`  дата скачивания анкеты из базы\n",
    "    \n",
    "- `VehicleType` — тип автомобильного кузова\n",
    "- `RegistrationYear` — год регистрации автомобиля\n",
    "- `Gearbox` — тип коробки передач\n",
    "- `Power` — мощность (л. с.)\n",
    "- `Model` — модель автомобиля\n",
    "- `Kilometer` — пробег (км)\n",
    "- `RegistrationMonth` — месяц регистрации автомобиля\n",
    "- `FuelType` — тип топлива\n",
    "- `Brand` — марка автомобиля\n",
    "- `NotRepaired` — была машина в ремонте или нет\n",
    "- `DateCreated` — дата создания анкеты\n",
    "- `NumberOfPictures` — количество фотографий автомобиля\n",
    "- `PostalCode` — почтовый индекс владельца анкеты (пользователя)\n",
    "- `LastSeen` — дата последней активности пользователя\n",
    "\n",
    "\n",
    "*Целевой признак*\n",
    "\n",
    "- `Price` — цена (евро)\n",
    "\n"
   ]
  },
  {
   "cell_type": "markdown",
   "metadata": {},
   "source": [
    "Установка библиотек!"
   ]
  },
  {
   "cell_type": "code",
   "execution_count": 122,
   "metadata": {},
   "outputs": [],
   "source": [
    "#pip install --upgrade pip"
   ]
  },
  {
   "cell_type": "code",
   "execution_count": 123,
   "metadata": {},
   "outputs": [],
   "source": [
    "#pip install lightgbm"
   ]
  },
  {
   "cell_type": "code",
   "execution_count": 124,
   "metadata": {},
   "outputs": [],
   "source": [
    "#pip install catboost"
   ]
  },
  {
   "cell_type": "code",
   "execution_count": 125,
   "metadata": {},
   "outputs": [],
   "source": [
    "# import labraris\n",
    "import pandas as pd\n",
    "import numpy as np\n",
    "\n",
    "import matplotlib.pyplot as plt\n",
    "import seaborn as sns\n",
    "\n",
    "from sklearn.preprocessing import OrdinalEncoder\n",
    "from sklearn.preprocessing import LabelEncoder\n",
    "from sklearn.preprocessing import StandardScaler\n",
    "\n",
    "from sklearn.model_selection import train_test_split\n",
    "from sklearn.model_selection import GridSearchCV\n",
    "from sklearn.model_selection import cross_val_score\n",
    "\n",
    "from sklearn.metrics import mean_squared_error\n",
    "from sklearn.metrics import  make_scorer\n",
    "\n",
    "from sklearn.tree import DecisionTreeRegressor\n",
    "from sklearn.ensemble import RandomForestRegressor\n",
    "from sklearn.linear_model import LinearRegression\n",
    "\n",
    "from lightgbm import LGBMRegressor\n",
    "from catboost import CatBoostRegressor, Pool\n",
    "\n",
    "import warnings\n",
    "warnings.simplefilter('ignore')"
   ]
  },
  {
   "cell_type": "markdown",
   "metadata": {},
   "source": [
    "## Обзор данных"
   ]
  },
  {
   "cell_type": "code",
   "execution_count": 126,
   "metadata": {},
   "outputs": [],
   "source": [
    "try:\n",
    "    data = pd.read_csv('autos.csv')\n",
    "except:\n",
    "    data = pd.read_csv('/datasets/autos.csv')"
   ]
  },
  {
   "cell_type": "code",
   "execution_count": 127,
   "metadata": {
    "scrolled": true
   },
   "outputs": [
    {
     "data": {
      "text/html": [
       "<div>\n",
       "<style scoped>\n",
       "    .dataframe tbody tr th:only-of-type {\n",
       "        vertical-align: middle;\n",
       "    }\n",
       "\n",
       "    .dataframe tbody tr th {\n",
       "        vertical-align: top;\n",
       "    }\n",
       "\n",
       "    .dataframe thead th {\n",
       "        text-align: right;\n",
       "    }\n",
       "</style>\n",
       "<table border=\"1\" class=\"dataframe\">\n",
       "  <thead>\n",
       "    <tr style=\"text-align: right;\">\n",
       "      <th></th>\n",
       "      <th>DateCrawled</th>\n",
       "      <th>Price</th>\n",
       "      <th>VehicleType</th>\n",
       "      <th>RegistrationYear</th>\n",
       "      <th>Gearbox</th>\n",
       "      <th>Power</th>\n",
       "      <th>Model</th>\n",
       "      <th>Kilometer</th>\n",
       "      <th>RegistrationMonth</th>\n",
       "      <th>FuelType</th>\n",
       "      <th>Brand</th>\n",
       "      <th>NotRepaired</th>\n",
       "      <th>DateCreated</th>\n",
       "      <th>NumberOfPictures</th>\n",
       "      <th>PostalCode</th>\n",
       "      <th>LastSeen</th>\n",
       "    </tr>\n",
       "  </thead>\n",
       "  <tbody>\n",
       "    <tr>\n",
       "      <th>0</th>\n",
       "      <td>2016-03-24 11:52:17</td>\n",
       "      <td>480</td>\n",
       "      <td>NaN</td>\n",
       "      <td>1993</td>\n",
       "      <td>manual</td>\n",
       "      <td>0</td>\n",
       "      <td>golf</td>\n",
       "      <td>150000</td>\n",
       "      <td>0</td>\n",
       "      <td>petrol</td>\n",
       "      <td>volkswagen</td>\n",
       "      <td>NaN</td>\n",
       "      <td>2016-03-24 00:00:00</td>\n",
       "      <td>0</td>\n",
       "      <td>70435</td>\n",
       "      <td>2016-04-07 03:16:57</td>\n",
       "    </tr>\n",
       "    <tr>\n",
       "      <th>1</th>\n",
       "      <td>2016-03-24 10:58:45</td>\n",
       "      <td>18300</td>\n",
       "      <td>coupe</td>\n",
       "      <td>2011</td>\n",
       "      <td>manual</td>\n",
       "      <td>190</td>\n",
       "      <td>NaN</td>\n",
       "      <td>125000</td>\n",
       "      <td>5</td>\n",
       "      <td>gasoline</td>\n",
       "      <td>audi</td>\n",
       "      <td>yes</td>\n",
       "      <td>2016-03-24 00:00:00</td>\n",
       "      <td>0</td>\n",
       "      <td>66954</td>\n",
       "      <td>2016-04-07 01:46:50</td>\n",
       "    </tr>\n",
       "    <tr>\n",
       "      <th>2</th>\n",
       "      <td>2016-03-14 12:52:21</td>\n",
       "      <td>9800</td>\n",
       "      <td>suv</td>\n",
       "      <td>2004</td>\n",
       "      <td>auto</td>\n",
       "      <td>163</td>\n",
       "      <td>grand</td>\n",
       "      <td>125000</td>\n",
       "      <td>8</td>\n",
       "      <td>gasoline</td>\n",
       "      <td>jeep</td>\n",
       "      <td>NaN</td>\n",
       "      <td>2016-03-14 00:00:00</td>\n",
       "      <td>0</td>\n",
       "      <td>90480</td>\n",
       "      <td>2016-04-05 12:47:46</td>\n",
       "    </tr>\n",
       "    <tr>\n",
       "      <th>3</th>\n",
       "      <td>2016-03-17 16:54:04</td>\n",
       "      <td>1500</td>\n",
       "      <td>small</td>\n",
       "      <td>2001</td>\n",
       "      <td>manual</td>\n",
       "      <td>75</td>\n",
       "      <td>golf</td>\n",
       "      <td>150000</td>\n",
       "      <td>6</td>\n",
       "      <td>petrol</td>\n",
       "      <td>volkswagen</td>\n",
       "      <td>no</td>\n",
       "      <td>2016-03-17 00:00:00</td>\n",
       "      <td>0</td>\n",
       "      <td>91074</td>\n",
       "      <td>2016-03-17 17:40:17</td>\n",
       "    </tr>\n",
       "    <tr>\n",
       "      <th>4</th>\n",
       "      <td>2016-03-31 17:25:20</td>\n",
       "      <td>3600</td>\n",
       "      <td>small</td>\n",
       "      <td>2008</td>\n",
       "      <td>manual</td>\n",
       "      <td>69</td>\n",
       "      <td>fabia</td>\n",
       "      <td>90000</td>\n",
       "      <td>7</td>\n",
       "      <td>gasoline</td>\n",
       "      <td>skoda</td>\n",
       "      <td>no</td>\n",
       "      <td>2016-03-31 00:00:00</td>\n",
       "      <td>0</td>\n",
       "      <td>60437</td>\n",
       "      <td>2016-04-06 10:17:21</td>\n",
       "    </tr>\n",
       "  </tbody>\n",
       "</table>\n",
       "</div>"
      ],
      "text/plain": [
       "           DateCrawled  Price VehicleType  RegistrationYear Gearbox  Power  \\\n",
       "0  2016-03-24 11:52:17    480         NaN              1993  manual      0   \n",
       "1  2016-03-24 10:58:45  18300       coupe              2011  manual    190   \n",
       "2  2016-03-14 12:52:21   9800         suv              2004    auto    163   \n",
       "3  2016-03-17 16:54:04   1500       small              2001  manual     75   \n",
       "4  2016-03-31 17:25:20   3600       small              2008  manual     69   \n",
       "\n",
       "   Model  Kilometer  RegistrationMonth  FuelType       Brand NotRepaired  \\\n",
       "0   golf     150000                  0    petrol  volkswagen         NaN   \n",
       "1    NaN     125000                  5  gasoline        audi         yes   \n",
       "2  grand     125000                  8  gasoline        jeep         NaN   \n",
       "3   golf     150000                  6    petrol  volkswagen          no   \n",
       "4  fabia      90000                  7  gasoline       skoda          no   \n",
       "\n",
       "           DateCreated  NumberOfPictures  PostalCode             LastSeen  \n",
       "0  2016-03-24 00:00:00                 0       70435  2016-04-07 03:16:57  \n",
       "1  2016-03-24 00:00:00                 0       66954  2016-04-07 01:46:50  \n",
       "2  2016-03-14 00:00:00                 0       90480  2016-04-05 12:47:46  \n",
       "3  2016-03-17 00:00:00                 0       91074  2016-03-17 17:40:17  \n",
       "4  2016-03-31 00:00:00                 0       60437  2016-04-06 10:17:21  "
      ]
     },
     "execution_count": 127,
     "metadata": {},
     "output_type": "execute_result"
    }
   ],
   "source": [
    "data.head(5)"
   ]
  },
  {
   "cell_type": "code",
   "execution_count": 128,
   "metadata": {},
   "outputs": [],
   "source": [
    "cat_fiatures_list = ['VehicleType','Gearbox','Model','FuelType','Brand','NotRepaired']"
   ]
  },
  {
   "cell_type": "code",
   "execution_count": 129,
   "metadata": {},
   "outputs": [
    {
     "data": {
      "text/plain": [
       "(354369, 16)"
      ]
     },
     "execution_count": 129,
     "metadata": {},
     "output_type": "execute_result"
    }
   ],
   "source": [
    "data.shape"
   ]
  },
  {
   "cell_type": "markdown",
   "metadata": {},
   "source": [
    "Названия колонк не соответствуют общепринятому стилю, необходимо ререименовать."
   ]
  },
  {
   "cell_type": "code",
   "execution_count": 130,
   "metadata": {
    "scrolled": true
   },
   "outputs": [
    {
     "name": "stdout",
     "output_type": "stream",
     "text": [
      "<class 'pandas.core.frame.DataFrame'>\n",
      "RangeIndex: 354369 entries, 0 to 354368\n",
      "Data columns (total 16 columns):\n",
      " #   Column             Non-Null Count   Dtype \n",
      "---  ------             --------------   ----- \n",
      " 0   DateCrawled        354369 non-null  object\n",
      " 1   Price              354369 non-null  int64 \n",
      " 2   VehicleType        316879 non-null  object\n",
      " 3   RegistrationYear   354369 non-null  int64 \n",
      " 4   Gearbox            334536 non-null  object\n",
      " 5   Power              354369 non-null  int64 \n",
      " 6   Model              334664 non-null  object\n",
      " 7   Kilometer          354369 non-null  int64 \n",
      " 8   RegistrationMonth  354369 non-null  int64 \n",
      " 9   FuelType           321474 non-null  object\n",
      " 10  Brand              354369 non-null  object\n",
      " 11  NotRepaired        283215 non-null  object\n",
      " 12  DateCreated        354369 non-null  object\n",
      " 13  NumberOfPictures   354369 non-null  int64 \n",
      " 14  PostalCode         354369 non-null  int64 \n",
      " 15  LastSeen           354369 non-null  object\n",
      "dtypes: int64(7), object(9)\n",
      "memory usage: 43.3+ MB\n"
     ]
    }
   ],
   "source": [
    "data.info()"
   ]
  },
  {
   "cell_type": "markdown",
   "metadata": {},
   "source": [
    "Необходимо привести типы данных в соответствии с хранимыми данными."
   ]
  },
  {
   "cell_type": "code",
   "execution_count": 131,
   "metadata": {
    "scrolled": false
   },
   "outputs": [
    {
     "data": {
      "text/html": [
       "<div>\n",
       "<style scoped>\n",
       "    .dataframe tbody tr th:only-of-type {\n",
       "        vertical-align: middle;\n",
       "    }\n",
       "\n",
       "    .dataframe tbody tr th {\n",
       "        vertical-align: top;\n",
       "    }\n",
       "\n",
       "    .dataframe thead th {\n",
       "        text-align: right;\n",
       "    }\n",
       "</style>\n",
       "<table border=\"1\" class=\"dataframe\">\n",
       "  <thead>\n",
       "    <tr style=\"text-align: right;\">\n",
       "      <th></th>\n",
       "      <th>count</th>\n",
       "      <th>mean</th>\n",
       "      <th>std</th>\n",
       "      <th>min</th>\n",
       "      <th>25%</th>\n",
       "      <th>50%</th>\n",
       "      <th>75%</th>\n",
       "      <th>max</th>\n",
       "    </tr>\n",
       "  </thead>\n",
       "  <tbody>\n",
       "    <tr>\n",
       "      <th>Price</th>\n",
       "      <td>354369.0</td>\n",
       "      <td>4416.656776</td>\n",
       "      <td>4514.158514</td>\n",
       "      <td>0.0</td>\n",
       "      <td>1050.0</td>\n",
       "      <td>2700.0</td>\n",
       "      <td>6400.0</td>\n",
       "      <td>20000.0</td>\n",
       "    </tr>\n",
       "    <tr>\n",
       "      <th>RegistrationYear</th>\n",
       "      <td>354369.0</td>\n",
       "      <td>2004.234448</td>\n",
       "      <td>90.227958</td>\n",
       "      <td>1000.0</td>\n",
       "      <td>1999.0</td>\n",
       "      <td>2003.0</td>\n",
       "      <td>2008.0</td>\n",
       "      <td>9999.0</td>\n",
       "    </tr>\n",
       "    <tr>\n",
       "      <th>Power</th>\n",
       "      <td>354369.0</td>\n",
       "      <td>110.094337</td>\n",
       "      <td>189.850405</td>\n",
       "      <td>0.0</td>\n",
       "      <td>69.0</td>\n",
       "      <td>105.0</td>\n",
       "      <td>143.0</td>\n",
       "      <td>20000.0</td>\n",
       "    </tr>\n",
       "    <tr>\n",
       "      <th>Kilometer</th>\n",
       "      <td>354369.0</td>\n",
       "      <td>128211.172535</td>\n",
       "      <td>37905.341530</td>\n",
       "      <td>5000.0</td>\n",
       "      <td>125000.0</td>\n",
       "      <td>150000.0</td>\n",
       "      <td>150000.0</td>\n",
       "      <td>150000.0</td>\n",
       "    </tr>\n",
       "    <tr>\n",
       "      <th>RegistrationMonth</th>\n",
       "      <td>354369.0</td>\n",
       "      <td>5.714645</td>\n",
       "      <td>3.726421</td>\n",
       "      <td>0.0</td>\n",
       "      <td>3.0</td>\n",
       "      <td>6.0</td>\n",
       "      <td>9.0</td>\n",
       "      <td>12.0</td>\n",
       "    </tr>\n",
       "    <tr>\n",
       "      <th>NumberOfPictures</th>\n",
       "      <td>354369.0</td>\n",
       "      <td>0.000000</td>\n",
       "      <td>0.000000</td>\n",
       "      <td>0.0</td>\n",
       "      <td>0.0</td>\n",
       "      <td>0.0</td>\n",
       "      <td>0.0</td>\n",
       "      <td>0.0</td>\n",
       "    </tr>\n",
       "    <tr>\n",
       "      <th>PostalCode</th>\n",
       "      <td>354369.0</td>\n",
       "      <td>50508.689087</td>\n",
       "      <td>25783.096248</td>\n",
       "      <td>1067.0</td>\n",
       "      <td>30165.0</td>\n",
       "      <td>49413.0</td>\n",
       "      <td>71083.0</td>\n",
       "      <td>99998.0</td>\n",
       "    </tr>\n",
       "  </tbody>\n",
       "</table>\n",
       "</div>"
      ],
      "text/plain": [
       "                      count           mean           std     min       25%  \\\n",
       "Price              354369.0    4416.656776   4514.158514     0.0    1050.0   \n",
       "RegistrationYear   354369.0    2004.234448     90.227958  1000.0    1999.0   \n",
       "Power              354369.0     110.094337    189.850405     0.0      69.0   \n",
       "Kilometer          354369.0  128211.172535  37905.341530  5000.0  125000.0   \n",
       "RegistrationMonth  354369.0       5.714645      3.726421     0.0       3.0   \n",
       "NumberOfPictures   354369.0       0.000000      0.000000     0.0       0.0   \n",
       "PostalCode         354369.0   50508.689087  25783.096248  1067.0   30165.0   \n",
       "\n",
       "                        50%       75%       max  \n",
       "Price                2700.0    6400.0   20000.0  \n",
       "RegistrationYear     2003.0    2008.0    9999.0  \n",
       "Power                 105.0     143.0   20000.0  \n",
       "Kilometer          150000.0  150000.0  150000.0  \n",
       "RegistrationMonth       6.0       9.0      12.0  \n",
       "NumberOfPictures        0.0       0.0       0.0  \n",
       "PostalCode          49413.0   71083.0   99998.0  "
      ]
     },
     "execution_count": 131,
     "metadata": {},
     "output_type": "execute_result"
    }
   ],
   "source": [
    "data.describe().T"
   ]
  },
  {
   "cell_type": "code",
   "execution_count": 132,
   "metadata": {
    "scrolled": true
   },
   "outputs": [
    {
     "data": {
      "text/plain": [
       "NotRepaired          0.200791\n",
       "VehicleType          0.105794\n",
       "FuelType             0.092827\n",
       "Gearbox              0.055967\n",
       "Model                0.055606\n",
       "DateCrawled          0.000000\n",
       "Price                0.000000\n",
       "RegistrationYear     0.000000\n",
       "Power                0.000000\n",
       "Kilometer            0.000000\n",
       "RegistrationMonth    0.000000\n",
       "Brand                0.000000\n",
       "DateCreated          0.000000\n",
       "NumberOfPictures     0.000000\n",
       "PostalCode           0.000000\n",
       "LastSeen             0.000000\n",
       "dtype: float64"
      ]
     },
     "execution_count": 132,
     "metadata": {},
     "output_type": "execute_result"
    }
   ],
   "source": [
    "data.isna().mean().sort_values(ascending=False)"
   ]
  },
  {
   "cell_type": "markdown",
   "metadata": {},
   "source": [
    "Пропуски по большей части в котегориальных данных."
   ]
  },
  {
   "cell_type": "code",
   "execution_count": 133,
   "metadata": {
    "scrolled": true
   },
   "outputs": [
    {
     "data": {
      "text/plain": [
       "4"
      ]
     },
     "execution_count": 133,
     "metadata": {},
     "output_type": "execute_result"
    }
   ],
   "source": [
    "data.duplicated().sum()"
   ]
  },
  {
   "cell_type": "markdown",
   "metadata": {},
   "source": [
    "Нашлось 4 дубликата "
   ]
  },
  {
   "cell_type": "code",
   "execution_count": 134,
   "metadata": {
    "scrolled": false
   },
   "outputs": [
    {
     "name": "stdout",
     "output_type": "stream",
     "text": [
      "VehicleType\n",
      "[nan 'coupe' 'suv' 'small' 'sedan' 'convertible' 'bus' 'wagon' 'other']\n",
      "Gearbox\n",
      "['manual' 'auto' nan]\n",
      "Model\n",
      "['golf' nan 'grand' 'fabia' '3er' '2_reihe' 'other' 'c_max' '3_reihe'\n",
      " 'passat' 'navara' 'ka' 'polo' 'twingo' 'a_klasse' 'scirocco' '5er'\n",
      " 'meriva' 'arosa' 'c4' 'civic' 'transporter' 'punto' 'e_klasse' 'clio'\n",
      " 'kadett' 'kangoo' 'corsa' 'one' 'fortwo' '1er' 'b_klasse' 'signum'\n",
      " 'astra' 'a8' 'jetta' 'fiesta' 'c_klasse' 'micra' 'vito' 'sprinter' '156'\n",
      " 'escort' 'forester' 'xc_reihe' 'scenic' 'a4' 'a1' 'insignia' 'combo'\n",
      " 'focus' 'tt' 'a6' 'jazz' 'omega' 'slk' '7er' '80' '147' '100' 'z_reihe'\n",
      " 'sportage' 'sorento' 'v40' 'ibiza' 'mustang' 'eos' 'touran' 'getz' 'a3'\n",
      " 'almera' 'megane' 'lupo' 'r19' 'zafira' 'caddy' 'mondeo' 'cordoba' 'colt'\n",
      " 'impreza' 'vectra' 'berlingo' 'tiguan' 'i_reihe' 'espace' 'sharan'\n",
      " '6_reihe' 'panda' 'up' 'seicento' 'ceed' '5_reihe' 'yeti' 'octavia' 'mii'\n",
      " 'rx_reihe' '6er' 'modus' 'fox' 'matiz' 'beetle' 'c1' 'rio' 'touareg'\n",
      " 'logan' 'spider' 'cuore' 's_max' 'a2' 'galaxy' 'c3' 'viano' 's_klasse'\n",
      " '1_reihe' 'avensis' 'roomster' 'sl' 'kaefer' 'santa' 'cooper' 'leon'\n",
      " '4_reihe' 'a5' '500' 'laguna' 'ptcruiser' 'clk' 'primera' 'x_reihe'\n",
      " 'exeo' '159' 'transit' 'juke' 'qashqai' 'carisma' 'accord' 'corolla'\n",
      " 'lanos' 'phaeton' 'verso' 'swift' 'rav' 'picanto' 'boxster' 'kalos'\n",
      " 'superb' 'stilo' 'alhambra' 'mx_reihe' 'roadster' 'ypsilon' 'cayenne'\n",
      " 'galant' 'justy' '90' 'sirion' 'crossfire' 'agila' 'duster' 'cr_reihe'\n",
      " 'v50' 'c_reihe' 'v_klasse' 'm_klasse' 'yaris' 'c5' 'aygo' 'cc' 'carnival'\n",
      " 'fusion' '911' 'bora' 'forfour' 'm_reihe' 'cl' 'tigra' '300c' 'spark'\n",
      " 'v70' 'kuga' 'x_type' 'ducato' 's_type' 'x_trail' 'toledo' 'altea'\n",
      " 'voyager' 'calibra' 'bravo' 'antara' 'tucson' 'citigo' 'jimny' 'wrangler'\n",
      " 'lybra' 'q7' 'lancer' 'captiva' 'c2' 'discovery' 'freelander' 'sandero'\n",
      " 'note' '900' 'cherokee' 'clubman' 'samara' 'defender' '601' 'cx_reihe'\n",
      " 'legacy' 'pajero' 'auris' 'niva' 's60' 'nubira' 'vivaro' 'g_klasse'\n",
      " 'lodgy' '850' 'range_rover' 'q3' 'serie_2' 'glk' 'charade' 'croma'\n",
      " 'outlander' 'doblo' 'musa' 'move' '9000' 'v60' '145' 'aveo' '200' 'b_max'\n",
      " 'range_rover_sport' 'terios' 'rangerover' 'q5' 'range_rover_evoque'\n",
      " 'materia' 'delta' 'gl' 'kalina' 'amarok' 'elefantino' 'i3' 'kappa'\n",
      " 'serie_3' 'serie_1']\n",
      "FuelType\n",
      "['petrol' 'gasoline' nan 'lpg' 'other' 'hybrid' 'cng' 'electric']\n",
      "Brand\n",
      "['volkswagen' 'audi' 'jeep' 'skoda' 'bmw' 'peugeot' 'ford' 'mazda'\n",
      " 'nissan' 'renault' 'mercedes_benz' 'opel' 'seat' 'citroen' 'honda' 'fiat'\n",
      " 'mini' 'smart' 'hyundai' 'sonstige_autos' 'alfa_romeo' 'subaru' 'volvo'\n",
      " 'mitsubishi' 'kia' 'suzuki' 'lancia' 'toyota' 'chevrolet' 'dacia'\n",
      " 'daihatsu' 'trabant' 'saab' 'chrysler' 'jaguar' 'daewoo' 'porsche'\n",
      " 'rover' 'land_rover' 'lada']\n",
      "NotRepaired\n",
      "[nan 'yes' 'no']\n"
     ]
    }
   ],
   "source": [
    "for i in cat_fiatures_list:\n",
    "    print(i)\n",
    "    print(data[i].unique())"
   ]
  },
  {
   "cell_type": "markdown",
   "metadata": {},
   "source": [
    "В значениях обектовых признаков есть значения \"other\", при заполнении пропусков пропущенные значения будем обозночать 'other'"
   ]
  },
  {
   "cell_type": "markdown",
   "metadata": {},
   "source": [
    "### Вывод\n",
    "\n",
    "- Нужно привести названия колонко к стандартному стилю написания\n",
    "- Необходимо привести типы данных в соответствии с хранимыми данными.\n",
    "- Заплнить пропущенные значения\n",
    "- Удалить дубликаты.\n",
    "- П\n"
   ]
  },
  {
   "cell_type": "markdown",
   "metadata": {},
   "source": [
    "## Предобрабодтка данных"
   ]
  },
  {
   "cell_type": "code",
   "execution_count": 135,
   "metadata": {},
   "outputs": [],
   "source": [
    "df = data.copy()"
   ]
  },
  {
   "cell_type": "markdown",
   "metadata": {},
   "source": [
    "### Измененние названия столбцов"
   ]
  },
  {
   "cell_type": "code",
   "execution_count": 136,
   "metadata": {
    "scrolled": true
   },
   "outputs": [
    {
     "data": {
      "text/plain": [
       "Index(['datecrawled', 'price', 'vehicletype', 'registrationyear', 'gearbox',\n",
       "       'power', 'model', 'kilometer', 'registrationmonth', 'fueltype', 'brand',\n",
       "       'notrepaired', 'datecreated', 'numberofpictures', 'postalcode',\n",
       "       'lastseen'],\n",
       "      dtype='object')"
      ]
     },
     "execution_count": 136,
     "metadata": {},
     "output_type": "execute_result"
    }
   ],
   "source": [
    "# Изменнение названия столбцов\n",
    "df.columns = df.columns.str.lower()\n",
    "df.columns"
   ]
  },
  {
   "cell_type": "code",
   "execution_count": 137,
   "metadata": {},
   "outputs": [],
   "source": [
    "correct_column_dict = {'datecrawled': 'date_carwled',\n",
    "                       'vehicletype': 'vhicle_type',\n",
    "                       'registrationyear': 'registration_year',\n",
    "                       'registrationmonth': 'registration_month',\n",
    "                       'fueltype': 'fuel_type',\n",
    "                       'notrepaired': 'not_repaired',\n",
    "                       'datecreated': 'date_created', \n",
    "                       'numberofpictures': 'number_of_pictures',\n",
    "                       'postalcode': 'postal_code',\n",
    "                       'lastseen': 'last_seen'}"
   ]
  },
  {
   "cell_type": "code",
   "execution_count": 138,
   "metadata": {},
   "outputs": [],
   "source": [
    "df = df.rename(columns=correct_column_dict)\n"
   ]
  },
  {
   "cell_type": "code",
   "execution_count": 139,
   "metadata": {
    "scrolled": false
   },
   "outputs": [
    {
     "data": {
      "text/plain": [
       "Index(['date_carwled', 'price', 'vhicle_type', 'registration_year', 'gearbox',\n",
       "       'power', 'model', 'kilometer', 'registration_month', 'fuel_type',\n",
       "       'brand', 'not_repaired', 'date_created', 'number_of_pictures',\n",
       "       'postal_code', 'last_seen'],\n",
       "      dtype='object')"
      ]
     },
     "execution_count": 139,
     "metadata": {},
     "output_type": "execute_result"
    }
   ],
   "source": [
    "df.columns"
   ]
  },
  {
   "cell_type": "markdown",
   "metadata": {},
   "source": [
    "### Изменение типов данных"
   ]
  },
  {
   "cell_type": "code",
   "execution_count": 140,
   "metadata": {
    "scrolled": true
   },
   "outputs": [
    {
     "data": {
      "text/html": [
       "<div>\n",
       "<style scoped>\n",
       "    .dataframe tbody tr th:only-of-type {\n",
       "        vertical-align: middle;\n",
       "    }\n",
       "\n",
       "    .dataframe tbody tr th {\n",
       "        vertical-align: top;\n",
       "    }\n",
       "\n",
       "    .dataframe thead th {\n",
       "        text-align: right;\n",
       "    }\n",
       "</style>\n",
       "<table border=\"1\" class=\"dataframe\">\n",
       "  <thead>\n",
       "    <tr style=\"text-align: right;\">\n",
       "      <th></th>\n",
       "      <th>date_carwled</th>\n",
       "      <th>price</th>\n",
       "      <th>vhicle_type</th>\n",
       "      <th>registration_year</th>\n",
       "      <th>gearbox</th>\n",
       "      <th>power</th>\n",
       "      <th>model</th>\n",
       "      <th>kilometer</th>\n",
       "      <th>registration_month</th>\n",
       "      <th>fuel_type</th>\n",
       "      <th>brand</th>\n",
       "      <th>not_repaired</th>\n",
       "      <th>date_created</th>\n",
       "      <th>number_of_pictures</th>\n",
       "      <th>postal_code</th>\n",
       "      <th>last_seen</th>\n",
       "    </tr>\n",
       "  </thead>\n",
       "  <tbody>\n",
       "    <tr>\n",
       "      <th>0</th>\n",
       "      <td>2016-03-24 11:52:17</td>\n",
       "      <td>480</td>\n",
       "      <td>NaN</td>\n",
       "      <td>1993</td>\n",
       "      <td>manual</td>\n",
       "      <td>0</td>\n",
       "      <td>golf</td>\n",
       "      <td>150000</td>\n",
       "      <td>0</td>\n",
       "      <td>petrol</td>\n",
       "      <td>volkswagen</td>\n",
       "      <td>NaN</td>\n",
       "      <td>2016-03-24 00:00:00</td>\n",
       "      <td>0</td>\n",
       "      <td>70435</td>\n",
       "      <td>2016-04-07 03:16:57</td>\n",
       "    </tr>\n",
       "    <tr>\n",
       "      <th>1</th>\n",
       "      <td>2016-03-24 10:58:45</td>\n",
       "      <td>18300</td>\n",
       "      <td>coupe</td>\n",
       "      <td>2011</td>\n",
       "      <td>manual</td>\n",
       "      <td>190</td>\n",
       "      <td>NaN</td>\n",
       "      <td>125000</td>\n",
       "      <td>5</td>\n",
       "      <td>gasoline</td>\n",
       "      <td>audi</td>\n",
       "      <td>yes</td>\n",
       "      <td>2016-03-24 00:00:00</td>\n",
       "      <td>0</td>\n",
       "      <td>66954</td>\n",
       "      <td>2016-04-07 01:46:50</td>\n",
       "    </tr>\n",
       "    <tr>\n",
       "      <th>2</th>\n",
       "      <td>2016-03-14 12:52:21</td>\n",
       "      <td>9800</td>\n",
       "      <td>suv</td>\n",
       "      <td>2004</td>\n",
       "      <td>auto</td>\n",
       "      <td>163</td>\n",
       "      <td>grand</td>\n",
       "      <td>125000</td>\n",
       "      <td>8</td>\n",
       "      <td>gasoline</td>\n",
       "      <td>jeep</td>\n",
       "      <td>NaN</td>\n",
       "      <td>2016-03-14 00:00:00</td>\n",
       "      <td>0</td>\n",
       "      <td>90480</td>\n",
       "      <td>2016-04-05 12:47:46</td>\n",
       "    </tr>\n",
       "    <tr>\n",
       "      <th>3</th>\n",
       "      <td>2016-03-17 16:54:04</td>\n",
       "      <td>1500</td>\n",
       "      <td>small</td>\n",
       "      <td>2001</td>\n",
       "      <td>manual</td>\n",
       "      <td>75</td>\n",
       "      <td>golf</td>\n",
       "      <td>150000</td>\n",
       "      <td>6</td>\n",
       "      <td>petrol</td>\n",
       "      <td>volkswagen</td>\n",
       "      <td>no</td>\n",
       "      <td>2016-03-17 00:00:00</td>\n",
       "      <td>0</td>\n",
       "      <td>91074</td>\n",
       "      <td>2016-03-17 17:40:17</td>\n",
       "    </tr>\n",
       "    <tr>\n",
       "      <th>4</th>\n",
       "      <td>2016-03-31 17:25:20</td>\n",
       "      <td>3600</td>\n",
       "      <td>small</td>\n",
       "      <td>2008</td>\n",
       "      <td>manual</td>\n",
       "      <td>69</td>\n",
       "      <td>fabia</td>\n",
       "      <td>90000</td>\n",
       "      <td>7</td>\n",
       "      <td>gasoline</td>\n",
       "      <td>skoda</td>\n",
       "      <td>no</td>\n",
       "      <td>2016-03-31 00:00:00</td>\n",
       "      <td>0</td>\n",
       "      <td>60437</td>\n",
       "      <td>2016-04-06 10:17:21</td>\n",
       "    </tr>\n",
       "  </tbody>\n",
       "</table>\n",
       "</div>"
      ],
      "text/plain": [
       "          date_carwled  price vhicle_type  registration_year gearbox  power  \\\n",
       "0  2016-03-24 11:52:17    480         NaN               1993  manual      0   \n",
       "1  2016-03-24 10:58:45  18300       coupe               2011  manual    190   \n",
       "2  2016-03-14 12:52:21   9800         suv               2004    auto    163   \n",
       "3  2016-03-17 16:54:04   1500       small               2001  manual     75   \n",
       "4  2016-03-31 17:25:20   3600       small               2008  manual     69   \n",
       "\n",
       "   model  kilometer  registration_month fuel_type       brand not_repaired  \\\n",
       "0   golf     150000                   0    petrol  volkswagen          NaN   \n",
       "1    NaN     125000                   5  gasoline        audi          yes   \n",
       "2  grand     125000                   8  gasoline        jeep          NaN   \n",
       "3   golf     150000                   6    petrol  volkswagen           no   \n",
       "4  fabia      90000                   7  gasoline       skoda           no   \n",
       "\n",
       "          date_created  number_of_pictures  postal_code            last_seen  \n",
       "0  2016-03-24 00:00:00                   0        70435  2016-04-07 03:16:57  \n",
       "1  2016-03-24 00:00:00                   0        66954  2016-04-07 01:46:50  \n",
       "2  2016-03-14 00:00:00                   0        90480  2016-04-05 12:47:46  \n",
       "3  2016-03-17 00:00:00                   0        91074  2016-03-17 17:40:17  \n",
       "4  2016-03-31 00:00:00                   0        60437  2016-04-06 10:17:21  "
      ]
     },
     "execution_count": 140,
     "metadata": {},
     "output_type": "execute_result"
    }
   ],
   "source": [
    "df.head()"
   ]
  },
  {
   "cell_type": "code",
   "execution_count": 141,
   "metadata": {
    "scrolled": true
   },
   "outputs": [
    {
     "data": {
      "text/plain": [
       "0        2016-03-24 11:52:17\n",
       "1        2016-03-24 10:58:45\n",
       "2        2016-03-14 12:52:21\n",
       "3        2016-03-17 16:54:04\n",
       "4        2016-03-31 17:25:20\n",
       "                 ...        \n",
       "354364   2016-03-21 09:50:58\n",
       "354365   2016-03-14 17:48:27\n",
       "354366   2016-03-05 19:56:21\n",
       "354367   2016-03-19 18:57:12\n",
       "354368   2016-03-20 19:41:08\n",
       "Name: date_carwled, Length: 354369, dtype: datetime64[ns]"
      ]
     },
     "execution_count": 141,
     "metadata": {},
     "output_type": "execute_result"
    }
   ],
   "source": [
    "pd.to_datetime(df['date_carwled'])"
   ]
  },
  {
   "cell_type": "code",
   "execution_count": 142,
   "metadata": {},
   "outputs": [],
   "source": [
    "df['date_carwled'] = pd.to_datetime(df['date_carwled'])\n",
    "df['date_created'] = pd.to_datetime(df['date_created'])\n",
    "df['last_seen'] = pd.to_datetime(df['last_seen'])"
   ]
  },
  {
   "cell_type": "markdown",
   "metadata": {},
   "source": [
    "### Удаление дубликатов."
   ]
  },
  {
   "cell_type": "code",
   "execution_count": 143,
   "metadata": {},
   "outputs": [
    {
     "data": {
      "text/plain": [
       "4"
      ]
     },
     "execution_count": 143,
     "metadata": {},
     "output_type": "execute_result"
    }
   ],
   "source": [
    "df.duplicated().sum()"
   ]
  },
  {
   "cell_type": "code",
   "execution_count": 144,
   "metadata": {},
   "outputs": [],
   "source": [
    "df.drop_duplicates(inplace=True)"
   ]
  },
  {
   "cell_type": "markdown",
   "metadata": {},
   "source": [
    "Явне дубликаты удалены, но я заметил что в некоторых записях дата последней активности пользователя позже даты выгрузки из базы. Что может свидетельстовать о том что пользователь заходил и что то правил в объявлении, Посмотрм сколько дубликатов если исклюсить эти два столбца."
   ]
  },
  {
   "cell_type": "code",
   "execution_count": 145,
   "metadata": {
    "scrolled": false
   },
   "outputs": [
    {
     "data": {
      "text/plain": [
       "10190"
      ]
     },
     "execution_count": 145,
     "metadata": {},
     "output_type": "execute_result"
    }
   ],
   "source": [
    "df.iloc[:, 1:-1].duplicated().sum()"
   ]
  },
  {
   "cell_type": "markdown",
   "metadata": {},
   "source": [
    "Чуть больше 10 тысяч. Удалим эти записи."
   ]
  },
  {
   "cell_type": "code",
   "execution_count": 146,
   "metadata": {},
   "outputs": [],
   "source": [
    "df = df.drop_duplicates(subset=df.columns[1:-1])"
   ]
  },
  {
   "cell_type": "markdown",
   "metadata": {},
   "source": [
    "### Замена пропущенных значений"
   ]
  },
  {
   "cell_type": "markdown",
   "metadata": {},
   "source": [
    "Для начала рассмотрим пропущенные значения в чисовых данных "
   ]
  },
  {
   "cell_type": "code",
   "execution_count": 147,
   "metadata": {},
   "outputs": [
    {
     "data": {
      "text/html": [
       "<div>\n",
       "<style scoped>\n",
       "    .dataframe tbody tr th:only-of-type {\n",
       "        vertical-align: middle;\n",
       "    }\n",
       "\n",
       "    .dataframe tbody tr th {\n",
       "        vertical-align: top;\n",
       "    }\n",
       "\n",
       "    .dataframe thead th {\n",
       "        text-align: right;\n",
       "    }\n",
       "</style>\n",
       "<table border=\"1\" class=\"dataframe\">\n",
       "  <thead>\n",
       "    <tr style=\"text-align: right;\">\n",
       "      <th></th>\n",
       "      <th>price</th>\n",
       "      <th>registration_year</th>\n",
       "      <th>power</th>\n",
       "      <th>kilometer</th>\n",
       "      <th>registration_month</th>\n",
       "      <th>number_of_pictures</th>\n",
       "      <th>postal_code</th>\n",
       "    </tr>\n",
       "  </thead>\n",
       "  <tbody>\n",
       "    <tr>\n",
       "      <th>count</th>\n",
       "      <td>344175.000000</td>\n",
       "      <td>344175.000000</td>\n",
       "      <td>344175.000000</td>\n",
       "      <td>344175.000000</td>\n",
       "      <td>344175.000000</td>\n",
       "      <td>344175.0</td>\n",
       "      <td>344175.000000</td>\n",
       "    </tr>\n",
       "    <tr>\n",
       "      <th>mean</th>\n",
       "      <td>4395.893249</td>\n",
       "      <td>2004.223578</td>\n",
       "      <td>109.904886</td>\n",
       "      <td>128256.744389</td>\n",
       "      <td>5.704525</td>\n",
       "      <td>0.0</td>\n",
       "      <td>50539.510069</td>\n",
       "    </tr>\n",
       "    <tr>\n",
       "      <th>std</th>\n",
       "      <td>4506.888598</td>\n",
       "      <td>90.906705</td>\n",
       "      <td>191.468515</td>\n",
       "      <td>37907.597348</td>\n",
       "      <td>3.729554</td>\n",
       "      <td>0.0</td>\n",
       "      <td>25812.880706</td>\n",
       "    </tr>\n",
       "    <tr>\n",
       "      <th>min</th>\n",
       "      <td>0.000000</td>\n",
       "      <td>1000.000000</td>\n",
       "      <td>0.000000</td>\n",
       "      <td>5000.000000</td>\n",
       "      <td>0.000000</td>\n",
       "      <td>0.0</td>\n",
       "      <td>1067.000000</td>\n",
       "    </tr>\n",
       "    <tr>\n",
       "      <th>25%</th>\n",
       "      <td>1000.000000</td>\n",
       "      <td>1999.000000</td>\n",
       "      <td>68.000000</td>\n",
       "      <td>125000.000000</td>\n",
       "      <td>3.000000</td>\n",
       "      <td>0.0</td>\n",
       "      <td>30163.000000</td>\n",
       "    </tr>\n",
       "    <tr>\n",
       "      <th>50%</th>\n",
       "      <td>2700.000000</td>\n",
       "      <td>2003.000000</td>\n",
       "      <td>105.000000</td>\n",
       "      <td>150000.000000</td>\n",
       "      <td>6.000000</td>\n",
       "      <td>0.0</td>\n",
       "      <td>49393.000000</td>\n",
       "    </tr>\n",
       "    <tr>\n",
       "      <th>75%</th>\n",
       "      <td>6300.000000</td>\n",
       "      <td>2008.000000</td>\n",
       "      <td>141.000000</td>\n",
       "      <td>150000.000000</td>\n",
       "      <td>9.000000</td>\n",
       "      <td>0.0</td>\n",
       "      <td>71155.000000</td>\n",
       "    </tr>\n",
       "    <tr>\n",
       "      <th>max</th>\n",
       "      <td>20000.000000</td>\n",
       "      <td>9999.000000</td>\n",
       "      <td>20000.000000</td>\n",
       "      <td>150000.000000</td>\n",
       "      <td>12.000000</td>\n",
       "      <td>0.0</td>\n",
       "      <td>99998.000000</td>\n",
       "    </tr>\n",
       "  </tbody>\n",
       "</table>\n",
       "</div>"
      ],
      "text/plain": [
       "               price  registration_year          power      kilometer  \\\n",
       "count  344175.000000      344175.000000  344175.000000  344175.000000   \n",
       "mean     4395.893249        2004.223578     109.904886  128256.744389   \n",
       "std      4506.888598          90.906705     191.468515   37907.597348   \n",
       "min         0.000000        1000.000000       0.000000    5000.000000   \n",
       "25%      1000.000000        1999.000000      68.000000  125000.000000   \n",
       "50%      2700.000000        2003.000000     105.000000  150000.000000   \n",
       "75%      6300.000000        2008.000000     141.000000  150000.000000   \n",
       "max     20000.000000        9999.000000   20000.000000  150000.000000   \n",
       "\n",
       "       registration_month  number_of_pictures    postal_code  \n",
       "count       344175.000000            344175.0  344175.000000  \n",
       "mean             5.704525                 0.0   50539.510069  \n",
       "std              3.729554                 0.0   25812.880706  \n",
       "min              0.000000                 0.0    1067.000000  \n",
       "25%              3.000000                 0.0   30163.000000  \n",
       "50%              6.000000                 0.0   49393.000000  \n",
       "75%              9.000000                 0.0   71155.000000  \n",
       "max             12.000000                 0.0   99998.000000  "
      ]
     },
     "execution_count": 147,
     "metadata": {},
     "output_type": "execute_result"
    }
   ],
   "source": [
    "df.describe()"
   ]
  },
  {
   "cell_type": "markdown",
   "metadata": {},
   "source": [
    "Есть записи в которых присутствуют неявные пропуски, цена не может быть 0, только если отдать даром, но нас такой вариант не интересует, основная масса клиентов желает узнать реальную рыночную стоимость своего автомобиля. Поэтому удалим эти записи"
   ]
  },
  {
   "cell_type": "code",
   "execution_count": 148,
   "metadata": {},
   "outputs": [],
   "source": [
    "df = df.query(\"price > 0 and power > 0\")\n"
   ]
  },
  {
   "cell_type": "code",
   "execution_count": 149,
   "metadata": {},
   "outputs": [
    {
     "data": {
      "text/html": [
       "<div>\n",
       "<style scoped>\n",
       "    .dataframe tbody tr th:only-of-type {\n",
       "        vertical-align: middle;\n",
       "    }\n",
       "\n",
       "    .dataframe tbody tr th {\n",
       "        vertical-align: top;\n",
       "    }\n",
       "\n",
       "    .dataframe thead th {\n",
       "        text-align: right;\n",
       "    }\n",
       "</style>\n",
       "<table border=\"1\" class=\"dataframe\">\n",
       "  <thead>\n",
       "    <tr style=\"text-align: right;\">\n",
       "      <th></th>\n",
       "      <th>price</th>\n",
       "      <th>registration_year</th>\n",
       "      <th>power</th>\n",
       "      <th>kilometer</th>\n",
       "      <th>registration_month</th>\n",
       "      <th>number_of_pictures</th>\n",
       "      <th>postal_code</th>\n",
       "    </tr>\n",
       "  </thead>\n",
       "  <tbody>\n",
       "    <tr>\n",
       "      <th>count</th>\n",
       "      <td>297916.000000</td>\n",
       "      <td>297916.000000</td>\n",
       "      <td>297916.000000</td>\n",
       "      <td>297916.000000</td>\n",
       "      <td>297916.000000</td>\n",
       "      <td>297916.0</td>\n",
       "      <td>297916.000000</td>\n",
       "    </tr>\n",
       "    <tr>\n",
       "      <th>mean</th>\n",
       "      <td>4790.397518</td>\n",
       "      <td>2003.493038</td>\n",
       "      <td>124.104654</td>\n",
       "      <td>128475.174210</td>\n",
       "      <td>5.954155</td>\n",
       "      <td>0.0</td>\n",
       "      <td>51192.743357</td>\n",
       "    </tr>\n",
       "    <tr>\n",
       "      <th>std</th>\n",
       "      <td>4580.499936</td>\n",
       "      <td>32.573404</td>\n",
       "      <td>196.682084</td>\n",
       "      <td>36743.559677</td>\n",
       "      <td>3.603782</td>\n",
       "      <td>0.0</td>\n",
       "      <td>25794.036664</td>\n",
       "    </tr>\n",
       "    <tr>\n",
       "      <th>min</th>\n",
       "      <td>1.000000</td>\n",
       "      <td>1000.000000</td>\n",
       "      <td>1.000000</td>\n",
       "      <td>5000.000000</td>\n",
       "      <td>0.000000</td>\n",
       "      <td>0.0</td>\n",
       "      <td>1067.000000</td>\n",
       "    </tr>\n",
       "    <tr>\n",
       "      <th>25%</th>\n",
       "      <td>1300.000000</td>\n",
       "      <td>1999.000000</td>\n",
       "      <td>75.000000</td>\n",
       "      <td>125000.000000</td>\n",
       "      <td>3.000000</td>\n",
       "      <td>0.0</td>\n",
       "      <td>30900.000000</td>\n",
       "    </tr>\n",
       "    <tr>\n",
       "      <th>50%</th>\n",
       "      <td>3050.000000</td>\n",
       "      <td>2003.000000</td>\n",
       "      <td>110.000000</td>\n",
       "      <td>150000.000000</td>\n",
       "      <td>6.000000</td>\n",
       "      <td>0.0</td>\n",
       "      <td>50170.000000</td>\n",
       "    </tr>\n",
       "    <tr>\n",
       "      <th>75%</th>\n",
       "      <td>6900.000000</td>\n",
       "      <td>2008.000000</td>\n",
       "      <td>150.000000</td>\n",
       "      <td>150000.000000</td>\n",
       "      <td>9.000000</td>\n",
       "      <td>0.0</td>\n",
       "      <td>72108.000000</td>\n",
       "    </tr>\n",
       "    <tr>\n",
       "      <th>max</th>\n",
       "      <td>20000.000000</td>\n",
       "      <td>9999.000000</td>\n",
       "      <td>20000.000000</td>\n",
       "      <td>150000.000000</td>\n",
       "      <td>12.000000</td>\n",
       "      <td>0.0</td>\n",
       "      <td>99998.000000</td>\n",
       "    </tr>\n",
       "  </tbody>\n",
       "</table>\n",
       "</div>"
      ],
      "text/plain": [
       "               price  registration_year          power      kilometer  \\\n",
       "count  297916.000000      297916.000000  297916.000000  297916.000000   \n",
       "mean     4790.397518        2003.493038     124.104654  128475.174210   \n",
       "std      4580.499936          32.573404     196.682084   36743.559677   \n",
       "min         1.000000        1000.000000       1.000000    5000.000000   \n",
       "25%      1300.000000        1999.000000      75.000000  125000.000000   \n",
       "50%      3050.000000        2003.000000     110.000000  150000.000000   \n",
       "75%      6900.000000        2008.000000     150.000000  150000.000000   \n",
       "max     20000.000000        9999.000000   20000.000000  150000.000000   \n",
       "\n",
       "       registration_month  number_of_pictures    postal_code  \n",
       "count       297916.000000            297916.0  297916.000000  \n",
       "mean             5.954155                 0.0   51192.743357  \n",
       "std              3.603782                 0.0   25794.036664  \n",
       "min              0.000000                 0.0    1067.000000  \n",
       "25%              3.000000                 0.0   30900.000000  \n",
       "50%              6.000000                 0.0   50170.000000  \n",
       "75%              9.000000                 0.0   72108.000000  \n",
       "max             12.000000                 0.0   99998.000000  "
      ]
     },
     "execution_count": 149,
     "metadata": {},
     "output_type": "execute_result"
    }
   ],
   "source": [
    "df.describe()"
   ]
  },
  {
   "cell_type": "markdown",
   "metadata": {},
   "source": [
    "###"
   ]
  },
  {
   "cell_type": "markdown",
   "metadata": {},
   "source": [
    "Проверим данные на аномалии. Проверять буду только те признаки которые в дальнейшем планирую использовать для обучения модели"
   ]
  },
  {
   "cell_type": "code",
   "execution_count": 150,
   "metadata": {
    "scrolled": true
   },
   "outputs": [
    {
     "data": {
      "text/plain": [
       "<AxesSubplot:ylabel='price'>"
      ]
     },
     "execution_count": 150,
     "metadata": {},
     "output_type": "execute_result"
    },
    {
     "data": {
      "image/png": "[encoded data removed]",
      "text/plain": [
       "<Figure size 720x1080 with 1 Axes>"
      ]
     },
     "metadata": {
      "needs_background": "light"
     },
     "output_type": "display_data"
    }
   ],
   "source": [
    "plt.figure(figsize=(10,15))\n",
    "sns.boxplot(y=df['price'])"
   ]
  },
  {
   "cell_type": "code",
   "execution_count": 151,
   "metadata": {
    "scrolled": true
   },
   "outputs": [
    {
     "data": {
      "image/png": "[encoded data removed]",
      "text/plain": [
       "<Figure size 1440x720 with 2 Axes>"
      ]
     },
     "metadata": {
      "needs_background": "light"
     },
     "output_type": "display_data"
    }
   ],
   "source": [
    "    plt.suptitle('Все данные', fontsize=16)\n",
    "    ax1 = plt.subplot(1,2,1)\n",
    "    ax2 = plt.subplot(1,2,2)\n",
    "    df.plot(\n",
    "        kind='hist',\n",
    "        y='registration_year',\n",
    "        ax=ax1,\n",
    "        bins=100,\n",
    "        orientation=u'horizontal',\n",
    "        label='registration_year',\n",
    "        figsize=(20,10),\n",
    "        title='registration_year',\n",
    "        grid=True,\n",
    "        legend=True)\n",
    "\n",
    "    \n",
    "    df.plot(\n",
    "        kind='box',\n",
    "        ax=ax2,\n",
    "        y='registration_year',\n",
    "        grid=True)\n",
    "    plt.show()"
   ]
  },
  {
   "cell_type": "markdown",
   "metadata": {},
   "source": [
    "С годом регистрации большые проблемы. Есть аномальные значения. Посмотрим на последнью дату создания анкеты"
   ]
  },
  {
   "cell_type": "code",
   "execution_count": 152,
   "metadata": {
    "scrolled": true
   },
   "outputs": [
    {
     "data": {
      "text/plain": [
       "Timestamp('2016-04-07 00:00:00')"
      ]
     },
     "execution_count": 152,
     "metadata": {},
     "output_type": "execute_result"
    }
   ],
   "source": [
    "df['date_created'].max()"
   ]
  },
  {
   "cell_type": "markdown",
   "metadata": {},
   "source": [
    "Последняя анкета создана в 2016 году значит, все записи в которых год регистрации больше 2016 будем считать аномальными значениями и удалим их, так же уберем вбросы с нижней границы, подбирал в ручную без использования полуторного межквартельного размаха."
   ]
  },
  {
   "cell_type": "code",
   "execution_count": 153,
   "metadata": {
    "scrolled": true
   },
   "outputs": [
    {
     "data": {
      "text/plain": [
       "<AxesSubplot:>"
      ]
     },
     "execution_count": 153,
     "metadata": {},
     "output_type": "execute_result"
    },
    {
     "data": {
      "image/png": "[encoded data removed]",
      "text/plain": [
       "<Figure size 1440x720 with 1 Axes>"
      ]
     },
     "metadata": {
      "needs_background": "light"
     },
     "output_type": "display_data"
    }
   ],
   "source": [
    "df[(df['registration_year'] <= 2016) & (df['registration_year'] >= 1987) ].plot(kind='box', y='registration_year', figsize=(20,10))"
   ]
  },
  {
   "cell_type": "code",
   "execution_count": null,
   "metadata": {},
   "outputs": [],
   "source": []
  },
  {
   "cell_type": "markdown",
   "metadata": {},
   "source": [
    "Price - длинный правый хвост\n",
    "Год регистрации совсем не понято что происходит\n",
    "Мощьность очень странные значения"
   ]
  },
  {
   "cell_type": "code",
   "execution_count": 154,
   "metadata": {},
   "outputs": [],
   "source": [
    "df = df[(df['registration_year'] <= 2016) & (df['registration_year'] >= 1987) ]"
   ]
  },
  {
   "cell_type": "code",
   "execution_count": 155,
   "metadata": {
    "scrolled": true
   },
   "outputs": [
    {
     "data": {
      "text/plain": [
       "<AxesSubplot:ylabel='power'>"
      ]
     },
     "execution_count": 155,
     "metadata": {},
     "output_type": "execute_result"
    },
    {
     "data": {
      "image/png": "[encoded data removed]",
      "text/plain": [
       "<Figure size 720x1080 with 1 Axes>"
      ]
     },
     "metadata": {
      "needs_background": "light"
     },
     "output_type": "display_data"
    }
   ],
   "source": [
    "plt.figure(figsize=(10,15))\n",
    "sns.boxplot(y=df['power'])"
   ]
  },
  {
   "cell_type": "markdown",
   "metadata": {},
   "source": [
    "Уберем вборосы использую полуторный межквартельный размах"
   ]
  },
  {
   "cell_type": "code",
   "execution_count": 156,
   "metadata": {},
   "outputs": [],
   "source": [
    "def quantile_range(columns):\n",
    "    # Первая квантиль\n",
    "    Q1 = df[columns].quantile(0.25)\n",
    "    # Третья квантиль\n",
    "    Q3 = df[columns].quantile(0.75)\n",
    "    # Межквантильное расстояние\n",
    "    IQR = Q3 - Q1\n",
    "    \n",
    "    min_range = Q1 - 1.5 * IQR\n",
    "    max_range = Q3 + 1.5 * IQR\n",
    "    \n",
    "    if min_range < 0:\n",
    "        min_range = 0\n",
    "        \n",
    "    return min_range, max_range"
   ]
  },
  {
   "cell_type": "code",
   "execution_count": 157,
   "metadata": {},
   "outputs": [],
   "source": [
    "min_range, max_range = quantile_range('power')\n",
    "df = df.loc[(df['power'] >= min_range) & (df['power'] <= max_range)]"
   ]
  },
  {
   "cell_type": "code",
   "execution_count": 158,
   "metadata": {
    "scrolled": true
   },
   "outputs": [
    {
     "data": {
      "text/plain": [
       "<AxesSubplot:ylabel='power'>"
      ]
     },
     "execution_count": 158,
     "metadata": {},
     "output_type": "execute_result"
    },
    {
     "data": {
      "image/png": "[encoded data removed]",
      "text/plain": [
       "<Figure size 720x1080 with 1 Axes>"
      ]
     },
     "metadata": {
      "needs_background": "light"
     },
     "output_type": "display_data"
    }
   ],
   "source": [
    "plt.figure(figsize=(10,15))\n",
    "sns.boxplot(y=df['power'])"
   ]
  },
  {
   "cell_type": "markdown",
   "metadata": {},
   "source": [
    "Данные отчищены от вбросов."
   ]
  },
  {
   "cell_type": "markdown",
   "metadata": {},
   "source": [
    "### Данные типа Object"
   ]
  },
  {
   "cell_type": "code",
   "execution_count": 159,
   "metadata": {},
   "outputs": [],
   "source": [
    "# Удлим записи где есть 4 пропущенных признака \n",
    "df = df.dropna(axis=0,thresh=12)"
   ]
  },
  {
   "cell_type": "markdown",
   "metadata": {},
   "source": [
    "Для остальных данных заменим пропуски на 'other'"
   ]
  },
  {
   "cell_type": "code",
   "execution_count": 160,
   "metadata": {},
   "outputs": [],
   "source": [
    "df = df.fillna('other')"
   ]
  },
  {
   "cell_type": "code",
   "execution_count": 161,
   "metadata": {
    "scrolled": false
   },
   "outputs": [
    {
     "data": {
      "text/plain": [
       "date_carwled          0\n",
       "price                 0\n",
       "vhicle_type           0\n",
       "registration_year     0\n",
       "gearbox               0\n",
       "power                 0\n",
       "model                 0\n",
       "kilometer             0\n",
       "registration_month    0\n",
       "fuel_type             0\n",
       "brand                 0\n",
       "not_repaired          0\n",
       "date_created          0\n",
       "number_of_pictures    0\n",
       "postal_code           0\n",
       "last_seen             0\n",
       "dtype: int64"
      ]
     },
     "execution_count": 161,
     "metadata": {},
     "output_type": "execute_result"
    }
   ],
   "source": [
    "df.isna().sum()"
   ]
  },
  {
   "cell_type": "markdown",
   "metadata": {},
   "source": [
    "### Вывод\n",
    "\n",
    "Данные отчищены от пропусков и аномальных значений "
   ]
  },
  {
   "cell_type": "markdown",
   "metadata": {},
   "source": [
    "## Подготовка данных"
   ]
  },
  {
   "cell_type": "markdown",
   "metadata": {},
   "source": [
    "Что бы подготовить данные для обучения  целевой признак "
   ]
  },
  {
   "cell_type": "code",
   "execution_count": 162,
   "metadata": {
    "scrolled": true
   },
   "outputs": [
    {
     "data": {
      "text/html": [
       "<div>\n",
       "<style scoped>\n",
       "    .dataframe tbody tr th:only-of-type {\n",
       "        vertical-align: middle;\n",
       "    }\n",
       "\n",
       "    .dataframe tbody tr th {\n",
       "        vertical-align: top;\n",
       "    }\n",
       "\n",
       "    .dataframe thead th {\n",
       "        text-align: right;\n",
       "    }\n",
       "</style>\n",
       "<table border=\"1\" class=\"dataframe\">\n",
       "  <thead>\n",
       "    <tr style=\"text-align: right;\">\n",
       "      <th></th>\n",
       "      <th>price</th>\n",
       "      <th>registration_year</th>\n",
       "      <th>power</th>\n",
       "      <th>kilometer</th>\n",
       "      <th>registration_month</th>\n",
       "      <th>number_of_pictures</th>\n",
       "      <th>postal_code</th>\n",
       "    </tr>\n",
       "  </thead>\n",
       "  <tbody>\n",
       "    <tr>\n",
       "      <th>count</th>\n",
       "      <td>276994.000000</td>\n",
       "      <td>276994.000000</td>\n",
       "      <td>276994.000000</td>\n",
       "      <td>276994.000000</td>\n",
       "      <td>276994.000000</td>\n",
       "      <td>276994.0</td>\n",
       "      <td>276994.000000</td>\n",
       "    </tr>\n",
       "    <tr>\n",
       "      <th>mean</th>\n",
       "      <td>4672.246937</td>\n",
       "      <td>2003.188690</td>\n",
       "      <td>116.727034</td>\n",
       "      <td>128623.905211</td>\n",
       "      <td>5.994245</td>\n",
       "      <td>0.0</td>\n",
       "      <td>51262.507596</td>\n",
       "    </tr>\n",
       "    <tr>\n",
       "      <th>std</th>\n",
       "      <td>4476.535660</td>\n",
       "      <td>5.694255</td>\n",
       "      <td>45.848473</td>\n",
       "      <td>36485.242166</td>\n",
       "      <td>3.587914</td>\n",
       "      <td>0.0</td>\n",
       "      <td>25789.248070</td>\n",
       "    </tr>\n",
       "    <tr>\n",
       "      <th>min</th>\n",
       "      <td>1.000000</td>\n",
       "      <td>1987.000000</td>\n",
       "      <td>1.000000</td>\n",
       "      <td>5000.000000</td>\n",
       "      <td>0.000000</td>\n",
       "      <td>0.0</td>\n",
       "      <td>1067.000000</td>\n",
       "    </tr>\n",
       "    <tr>\n",
       "      <th>25%</th>\n",
       "      <td>1299.000000</td>\n",
       "      <td>1999.000000</td>\n",
       "      <td>75.000000</td>\n",
       "      <td>125000.000000</td>\n",
       "      <td>3.000000</td>\n",
       "      <td>0.0</td>\n",
       "      <td>30926.000000</td>\n",
       "    </tr>\n",
       "    <tr>\n",
       "      <th>50%</th>\n",
       "      <td>3000.000000</td>\n",
       "      <td>2003.000000</td>\n",
       "      <td>110.000000</td>\n",
       "      <td>150000.000000</td>\n",
       "      <td>6.000000</td>\n",
       "      <td>0.0</td>\n",
       "      <td>50226.000000</td>\n",
       "    </tr>\n",
       "    <tr>\n",
       "      <th>75%</th>\n",
       "      <td>6750.000000</td>\n",
       "      <td>2007.000000</td>\n",
       "      <td>144.000000</td>\n",
       "      <td>150000.000000</td>\n",
       "      <td>9.000000</td>\n",
       "      <td>0.0</td>\n",
       "      <td>72124.000000</td>\n",
       "    </tr>\n",
       "    <tr>\n",
       "      <th>max</th>\n",
       "      <td>20000.000000</td>\n",
       "      <td>2016.000000</td>\n",
       "      <td>259.000000</td>\n",
       "      <td>150000.000000</td>\n",
       "      <td>12.000000</td>\n",
       "      <td>0.0</td>\n",
       "      <td>99998.000000</td>\n",
       "    </tr>\n",
       "  </tbody>\n",
       "</table>\n",
       "</div>"
      ],
      "text/plain": [
       "               price  registration_year          power      kilometer  \\\n",
       "count  276994.000000      276994.000000  276994.000000  276994.000000   \n",
       "mean     4672.246937        2003.188690     116.727034  128623.905211   \n",
       "std      4476.535660           5.694255      45.848473   36485.242166   \n",
       "min         1.000000        1987.000000       1.000000    5000.000000   \n",
       "25%      1299.000000        1999.000000      75.000000  125000.000000   \n",
       "50%      3000.000000        2003.000000     110.000000  150000.000000   \n",
       "75%      6750.000000        2007.000000     144.000000  150000.000000   \n",
       "max     20000.000000        2016.000000     259.000000  150000.000000   \n",
       "\n",
       "       registration_month  number_of_pictures    postal_code  \n",
       "count       276994.000000            276994.0  276994.000000  \n",
       "mean             5.994245                 0.0   51262.507596  \n",
       "std              3.587914                 0.0   25789.248070  \n",
       "min              0.000000                 0.0    1067.000000  \n",
       "25%              3.000000                 0.0   30926.000000  \n",
       "50%              6.000000                 0.0   50226.000000  \n",
       "75%              9.000000                 0.0   72124.000000  \n",
       "max             12.000000                 0.0   99998.000000  "
      ]
     },
     "execution_count": 162,
     "metadata": {},
     "output_type": "execute_result"
    }
   ],
   "source": [
    "df.describe()"
   ]
  },
  {
   "cell_type": "markdown",
   "metadata": {},
   "source": [
    "Уберем из данных признаки которые не несут полезнай нагрузки на конечный продукт."
   ]
  },
  {
   "cell_type": "code",
   "execution_count": 163,
   "metadata": {},
   "outputs": [
    {
     "data": {
      "text/html": [
       "<div>\n",
       "<style scoped>\n",
       "    .dataframe tbody tr th:only-of-type {\n",
       "        vertical-align: middle;\n",
       "    }\n",
       "\n",
       "    .dataframe tbody tr th {\n",
       "        vertical-align: top;\n",
       "    }\n",
       "\n",
       "    .dataframe thead th {\n",
       "        text-align: right;\n",
       "    }\n",
       "</style>\n",
       "<table border=\"1\" class=\"dataframe\">\n",
       "  <thead>\n",
       "    <tr style=\"text-align: right;\">\n",
       "      <th></th>\n",
       "      <th>date_carwled</th>\n",
       "      <th>price</th>\n",
       "      <th>vhicle_type</th>\n",
       "      <th>registration_year</th>\n",
       "      <th>gearbox</th>\n",
       "      <th>power</th>\n",
       "      <th>model</th>\n",
       "      <th>kilometer</th>\n",
       "      <th>registration_month</th>\n",
       "      <th>fuel_type</th>\n",
       "      <th>brand</th>\n",
       "      <th>not_repaired</th>\n",
       "      <th>date_created</th>\n",
       "      <th>number_of_pictures</th>\n",
       "      <th>postal_code</th>\n",
       "      <th>last_seen</th>\n",
       "    </tr>\n",
       "  </thead>\n",
       "  <tbody>\n",
       "    <tr>\n",
       "      <th>1</th>\n",
       "      <td>2016-03-24 10:58:45</td>\n",
       "      <td>18300</td>\n",
       "      <td>coupe</td>\n",
       "      <td>2011</td>\n",
       "      <td>manual</td>\n",
       "      <td>190</td>\n",
       "      <td>other</td>\n",
       "      <td>125000</td>\n",
       "      <td>5</td>\n",
       "      <td>gasoline</td>\n",
       "      <td>audi</td>\n",
       "      <td>yes</td>\n",
       "      <td>2016-03-24</td>\n",
       "      <td>0</td>\n",
       "      <td>66954</td>\n",
       "      <td>2016-04-07 01:46:50</td>\n",
       "    </tr>\n",
       "  </tbody>\n",
       "</table>\n",
       "</div>"
      ],
      "text/plain": [
       "         date_carwled  price vhicle_type  registration_year gearbox  power  \\\n",
       "1 2016-03-24 10:58:45  18300       coupe               2011  manual    190   \n",
       "\n",
       "   model  kilometer  registration_month fuel_type brand not_repaired  \\\n",
       "1  other     125000                   5  gasoline  audi          yes   \n",
       "\n",
       "  date_created  number_of_pictures  postal_code           last_seen  \n",
       "1   2016-03-24                   0        66954 2016-04-07 01:46:50  "
      ]
     },
     "execution_count": 163,
     "metadata": {},
     "output_type": "execute_result"
    }
   ],
   "source": [
    "df.head(1)"
   ]
  },
  {
   "cell_type": "code",
   "execution_count": 164,
   "metadata": {},
   "outputs": [],
   "source": [
    "df.drop(['date_carwled', 'date_created', 'number_of_pictures', 'postal_code', 'last_seen'], axis = 1, inplace = True)\n"
   ]
  },
  {
   "cell_type": "markdown",
   "metadata": {},
   "source": [
    "Перед обучением модели посмотрим как коррелируют между собой признаки "
   ]
  },
  {
   "cell_type": "code",
   "execution_count": 165,
   "metadata": {
    "scrolled": true
   },
   "outputs": [
    {
     "data": {
      "image/png": "[encoded data removed]",
      "text/plain": [
       "<Figure size 432x288 with 1 Axes>"
      ]
     },
     "metadata": {
      "needs_background": "light"
     },
     "output_type": "display_data"
    }
   ],
   "source": [
    "matrix = np.triu(df.corr())\n",
    "sns.heatmap(df.corr(), annot=True, mask=matrix,\n",
    "                fmt='.1g', cmap='coolwarm', cbar=False)\n",
    "\n",
    "plt.title('Угловая матрица корреляции')\n",
    "plt.show()"
   ]
  },
  {
   "cell_type": "markdown",
   "metadata": {},
   "source": [
    "Наибольшая зависимость наблюдается между годом регистрации и ценой."
   ]
  },
  {
   "cell_type": "markdown",
   "metadata": {},
   "source": [
    "### Подготовка признаков "
   ]
  },
  {
   "cell_type": "code",
   "execution_count": 166,
   "metadata": {},
   "outputs": [],
   "source": [
    "# Выделим целевую пересенную и признаки\n",
    "target = df['price']\n",
    "features = df.drop('price', axis=1)"
   ]
  },
  {
   "cell_type": "code",
   "execution_count": 167,
   "metadata": {
    "scrolled": false
   },
   "outputs": [
    {
     "data": {
      "text/html": [
       "<div>\n",
       "<style scoped>\n",
       "    .dataframe tbody tr th:only-of-type {\n",
       "        vertical-align: middle;\n",
       "    }\n",
       "\n",
       "    .dataframe tbody tr th {\n",
       "        vertical-align: top;\n",
       "    }\n",
       "\n",
       "    .dataframe thead th {\n",
       "        text-align: right;\n",
       "    }\n",
       "</style>\n",
       "<table border=\"1\" class=\"dataframe\">\n",
       "  <thead>\n",
       "    <tr style=\"text-align: right;\">\n",
       "      <th></th>\n",
       "      <th>price</th>\n",
       "      <th>vhicle_type</th>\n",
       "      <th>registration_year</th>\n",
       "      <th>gearbox</th>\n",
       "      <th>power</th>\n",
       "      <th>model</th>\n",
       "      <th>kilometer</th>\n",
       "      <th>registration_month</th>\n",
       "      <th>fuel_type</th>\n",
       "      <th>brand</th>\n",
       "      <th>not_repaired</th>\n",
       "    </tr>\n",
       "  </thead>\n",
       "  <tbody>\n",
       "    <tr>\n",
       "      <th>1</th>\n",
       "      <td>18300</td>\n",
       "      <td>coupe</td>\n",
       "      <td>2011</td>\n",
       "      <td>manual</td>\n",
       "      <td>190</td>\n",
       "      <td>other</td>\n",
       "      <td>125000</td>\n",
       "      <td>5</td>\n",
       "      <td>gasoline</td>\n",
       "      <td>audi</td>\n",
       "      <td>yes</td>\n",
       "    </tr>\n",
       "    <tr>\n",
       "      <th>2</th>\n",
       "      <td>9800</td>\n",
       "      <td>suv</td>\n",
       "      <td>2004</td>\n",
       "      <td>auto</td>\n",
       "      <td>163</td>\n",
       "      <td>grand</td>\n",
       "      <td>125000</td>\n",
       "      <td>8</td>\n",
       "      <td>gasoline</td>\n",
       "      <td>jeep</td>\n",
       "      <td>other</td>\n",
       "    </tr>\n",
       "    <tr>\n",
       "      <th>3</th>\n",
       "      <td>1500</td>\n",
       "      <td>small</td>\n",
       "      <td>2001</td>\n",
       "      <td>manual</td>\n",
       "      <td>75</td>\n",
       "      <td>golf</td>\n",
       "      <td>150000</td>\n",
       "      <td>6</td>\n",
       "      <td>petrol</td>\n",
       "      <td>volkswagen</td>\n",
       "      <td>no</td>\n",
       "    </tr>\n",
       "    <tr>\n",
       "      <th>4</th>\n",
       "      <td>3600</td>\n",
       "      <td>small</td>\n",
       "      <td>2008</td>\n",
       "      <td>manual</td>\n",
       "      <td>69</td>\n",
       "      <td>fabia</td>\n",
       "      <td>90000</td>\n",
       "      <td>7</td>\n",
       "      <td>gasoline</td>\n",
       "      <td>skoda</td>\n",
       "      <td>no</td>\n",
       "    </tr>\n",
       "    <tr>\n",
       "      <th>5</th>\n",
       "      <td>650</td>\n",
       "      <td>sedan</td>\n",
       "      <td>1995</td>\n",
       "      <td>manual</td>\n",
       "      <td>102</td>\n",
       "      <td>3er</td>\n",
       "      <td>150000</td>\n",
       "      <td>10</td>\n",
       "      <td>petrol</td>\n",
       "      <td>bmw</td>\n",
       "      <td>yes</td>\n",
       "    </tr>\n",
       "  </tbody>\n",
       "</table>\n",
       "</div>"
      ],
      "text/plain": [
       "   price vhicle_type  registration_year gearbox  power  model  kilometer  \\\n",
       "1  18300       coupe               2011  manual    190  other     125000   \n",
       "2   9800         suv               2004    auto    163  grand     125000   \n",
       "3   1500       small               2001  manual     75   golf     150000   \n",
       "4   3600       small               2008  manual     69  fabia      90000   \n",
       "5    650       sedan               1995  manual    102    3er     150000   \n",
       "\n",
       "   registration_month fuel_type       brand not_repaired  \n",
       "1                   5  gasoline        audi          yes  \n",
       "2                   8  gasoline        jeep        other  \n",
       "3                   6    petrol  volkswagen           no  \n",
       "4                   7  gasoline       skoda           no  \n",
       "5                  10    petrol         bmw          yes  "
      ]
     },
     "execution_count": 167,
     "metadata": {},
     "output_type": "execute_result"
    }
   ],
   "source": [
    "df.head()"
   ]
  },
  {
   "cell_type": "code",
   "execution_count": 168,
   "metadata": {},
   "outputs": [],
   "source": [
    "# Функция в зависимости от передаваемого типа кодирования категориальных данных, возвращает преобразованные данные,\n",
    "# и разделяет тернировочные и тестовые данные\n",
    "def split_sample(data, method):\n",
    "    scaler = StandardScaler()\n",
    "    numeric = ['power', 'kilometer' ]\n",
    "    categorian_columns = ['vhicle_type', 'registration_year', 'gearbox', 'model', 'fuel_type', 'brand',\n",
    "                          'not_repaired', 'registration_month']\n",
    "    features = data.drop('price', axis=1)\n",
    "    target = data['price']\n",
    "    if method == 'OHE':\n",
    "        features = pd.get_dummies(features, drop_first=True)\n",
    "        X_train, X_test, y_train, y_test = train_test_split(features, target, test_size=0.25, random_state=1)\n",
    "        \n",
    "    if method == 'OrdinalEncoder':\n",
    "        ord_enc = OrdinalEncoder()\n",
    "        ord_enc.fit(features[categorian_columns])\n",
    "        features[categorian_columns] = ord_enc.transform(features[categorian_columns])\n",
    "\n",
    "    if method == 'LabelEncoder':\n",
    "        for col in categorian_columns:\n",
    "            features[col] = LabelEncoder().fit_transform(features[col])\n",
    "\n",
    "    if method == 'CategorianFeatures':\n",
    "        for col in categorian_columns:\n",
    "            features[col] = features[col].astype(\"category\")\n",
    "        \n",
    "    X_train, X_test, y_train, y_test = train_test_split(features, target, test_size=0.25, random_state=1)\n",
    "    scaler.fit(X_train[numeric])\n",
    "    X_train[numeric] = scaler.transform(X_train[numeric])\n",
    "    X_test[numeric] = scaler.transform(X_test[numeric])\n",
    "    return X_train, X_test, y_train, y_test\n",
    "\n"
   ]
  },
  {
   "cell_type": "markdown",
   "metadata": {},
   "source": [
    "### Вывод"
   ]
  },
  {
   "cell_type": "markdown",
   "metadata": {},
   "source": [
    "Для подготовки данных была написана функция котороая в последуюшем будет вызываться в функции get_best_model"
   ]
  },
  {
   "cell_type": "markdown",
   "metadata": {},
   "source": [
    "## Обучение моделей"
   ]
  },
  {
   "cell_type": "code",
   "execution_count": 169,
   "metadata": {},
   "outputs": [],
   "source": [
    "def rmse (target, predictions):\n",
    "    mse = mean_squared_error(target, predictions)\n",
    "    rmse = mse ** 0.5\n",
    "    return rmse"
   ]
  },
  {
   "cell_type": "code",
   "execution_count": 170,
   "metadata": {},
   "outputs": [],
   "source": [
    "score_rmse = make_scorer(rmse)"
   ]
  },
  {
   "cell_type": "code",
   "execution_count": 171,
   "metadata": {},
   "outputs": [],
   "source": [
    "#Большой блок из двух функиц. Первая функция нужна для составления итоговой таблице.\n",
    "# Во второй функии идет разделение данных на выборки, препроцессинг данных, подбор гиперпараметров модели, обучение.\n",
    "# Не много нагруженная получилась но мне так удабней.\n",
    "\n",
    "best_models = dict(pre_processing = [], estimator = [],\n",
    "                   best_parameters= [], score = [],\n",
    "                   RMSE_test = [], fit_time = [],\n",
    "                   pred_time = []   )\n",
    "score_list = {}\n",
    "def _best_parameters(preprocessing, estimator,best_parameters, score, test_score, fit_time, pred_time):\n",
    "    value = \"Best parameters: \"\n",
    "    best_models['pre_processing'].append(preprocessing)\n",
    "    best_models['estimator'].append(estimator)\n",
    "    best_models['best_parameters'].append(best_parameters)\n",
    "    best_models['score'].append(score)\n",
    "    best_models['RMSE_test'].append(test_score)\n",
    "    best_models['fit_time'].append(fit_time)\n",
    "    best_models['pred_time'].append(pred_time)\n",
    "\n",
    "def get_best_model(estimator, hyperparameters, preprocessing):\n",
    "    cv = 3\n",
    "    X_train, X_test, y_train, y_test = split_sample(df, preprocessing)\n",
    "    grid_search = GridSearchCV(estimator=estimator,\n",
    "                               param_grid=hyperparameters,\n",
    "                               n_jobs=-1,\n",
    "                               cv=cv,\n",
    "                               scoring='neg_mean_squared_error', \n",
    "                               )\n",
    "    if preprocessing == 'CategorianFeatures':\n",
    "        cat_features = list(X_train.select_dtypes(include='category').columns)\n",
    "        start_time_fit = datetime.now()\n",
    "        best_model = grid_search.fit(X_train, y_train, cat_features = cat_features, verbose=30)\n",
    "        total_fit_time = datetime.now() - start_time_fit\n",
    "    else:\n",
    "        start_time_fit = datetime.now()\n",
    "        total_fit_time = datetime.now() - start_time_fit\n",
    "        best_model = grid_search.fit(X_train, y_train)\n",
    "        total_fit_time = datetime.now() - start_time_fit\n",
    "        \n",
    "    best_parameters = best_model.best_estimator_.get_params()\n",
    "    best_score = (-best_model.best_score_) ** 0.5\n",
    "    start_time_pred = datetime.now()\n",
    "    predict_test = best_model.predict(X_test)\n",
    "    total_time_pred = datetime.now() - start_time_pred\n",
    "    best_test_score = rmse(y_test,predict_test )\n",
    "    _best_parameters(preprocessing ,estimator, best_parameters, best_score,best_test_score,total_fit_time,total_time_pred )\n",
    "    \n",
    "    return best_model\n"
   ]
  },
  {
   "cell_type": "markdown",
   "metadata": {},
   "source": [
    "### Линейная регресси"
   ]
  },
  {
   "cell_type": "code",
   "execution_count": 172,
   "metadata": {},
   "outputs": [
    {
     "name": "stdout",
     "output_type": "stream",
     "text": [
      "Wall time: 18.9 s\n"
     ]
    }
   ],
   "source": [
    "%%time\n",
    "linearegreshion = get_best_model(LinearRegression(), dict(), 'OHE')"
   ]
  },
  {
   "cell_type": "markdown",
   "metadata": {},
   "source": [
    "### Случайный лес"
   ]
  },
  {
   "cell_type": "code",
   "execution_count": 173,
   "metadata": {
    "scrolled": true
   },
   "outputs": [
    {
     "name": "stdout",
     "output_type": "stream",
     "text": [
      "Wall time: 2min 32s\n"
     ]
    }
   ],
   "source": [
    "%%time\n",
    "randomforest = get_best_model(RandomForestRegressor(random_state=1), \n",
    "                              dict(n_estimators=list(range(20, 25, 1)), max_depth=list(range(17, 20, 1))),\n",
    "                             'OrdinalEncoder')"
   ]
  },
  {
   "cell_type": "markdown",
   "metadata": {},
   "source": [
    "### LightGBM"
   ]
  },
  {
   "cell_type": "code",
   "execution_count": 174,
   "metadata": {},
   "outputs": [],
   "source": [
    "%%time\n",
    "light_gbm = get_best_model(LGBMRegressor(random_state=1), \n",
    "                           dict(max_depth=list(range(17,20,1)), n_estimators=list(range(20, 25, 1))),\n",
    "                           'OHE')"
   ]
  },
  {
   "cell_type": "code",
   "execution_count": 175,
   "metadata": {},
   "outputs": [],
   "source": [
    "%%time\n",
    "light_gbm = get_best_model(LGBMRegressor(random_state=1), \n",
    "                           dict(max_depth=list(range(17,20,1)), n_estimators=list(range(20, 25, 1))),\n",
    "                           'OrdinalEncoder')"
   ]
  },
  {
   "cell_type": "markdown",
   "metadata": {},
   "source": [
    "### CatBoostRegressor"
   ]
  },
  {
   "cell_type": "code",
   "execution_count": 176,
   "metadata": {},
   "outputs": [
    {
     "name": "stdout",
     "output_type": "stream",
     "text": [
      "Learning rate set to 0.5\n",
      "0:\tlearn: 2898.5021458\ttotal: 382ms\tremaining: 8.78s\n",
      "1:\tlearn: 2164.5072141\ttotal: 764ms\tremaining: 8.41s\n",
      "2:\tlearn: 1865.3094366\ttotal: 1.15s\tremaining: 8.03s\n",
      "3:\tlearn: 1737.5313909\ttotal: 1.54s\tremaining: 7.71s\n",
      "4:\tlearn: 1663.4300066\ttotal: 1.91s\tremaining: 7.27s\n",
      "5:\tlearn: 1629.2600265\ttotal: 2.27s\tremaining: 6.81s\n",
      "6:\tlearn: 1609.7146091\ttotal: 2.62s\tremaining: 6.37s\n",
      "7:\tlearn: 1594.4035512\ttotal: 2.99s\tremaining: 5.98s\n",
      "8:\tlearn: 1577.6008740\ttotal: 3.35s\tremaining: 5.59s\n",
      "9:\tlearn: 1566.9713045\ttotal: 3.7s\tremaining: 5.19s\n",
      "10:\tlearn: 1557.1143561\ttotal: 4.07s\tremaining: 4.81s\n",
      "11:\tlearn: 1544.8849809\ttotal: 4.44s\tremaining: 4.44s\n",
      "12:\tlearn: 1538.9309881\ttotal: 4.8s\tremaining: 4.07s\n",
      "13:\tlearn: 1527.6839160\ttotal: 5.17s\tremaining: 3.69s\n",
      "14:\tlearn: 1518.3260887\ttotal: 5.54s\tremaining: 3.32s\n",
      "15:\tlearn: 1512.5482312\ttotal: 5.9s\tremaining: 2.95s\n",
      "16:\tlearn: 1506.4675624\ttotal: 6.28s\tremaining: 2.58s\n",
      "17:\tlearn: 1497.4345201\ttotal: 6.66s\tremaining: 2.22s\n",
      "18:\tlearn: 1486.3438222\ttotal: 7.03s\tremaining: 1.85s\n",
      "19:\tlearn: 1482.8228150\ttotal: 7.39s\tremaining: 1.48s\n",
      "20:\tlearn: 1477.3743910\ttotal: 7.75s\tremaining: 1.11s\n",
      "21:\tlearn: 1472.7897729\ttotal: 8.13s\tremaining: 739ms\n",
      "22:\tlearn: 1467.7813812\ttotal: 8.5s\tremaining: 370ms\n",
      "23:\tlearn: 1460.4429009\ttotal: 8.87s\tremaining: 0us\n"
     ]
    }
   ],
   "source": [
    "%%time\n",
    "cat_boost = get_best_model(CatBoostRegressor(random_state=1), \n",
    "                           dict(max_depth=list(range(5,15,1)), n_estimators=list(range(20, 25, 1))),\n",
    "                           'OHE')"
   ]
  },
  {
   "cell_type": "code",
   "execution_count": 177,
   "metadata": {},
   "outputs": [
    {
     "name": "stdout",
     "output_type": "stream",
     "text": [
      "Learning rate set to 0.5\n",
      "0:\tlearn: 2961.0354738\ttotal: 589ms\tremaining: 13.6s\n",
      "23:\tlearn: 1376.0299518\ttotal: 14.3s\tremaining: 0us\n"
     ]
    }
   ],
   "source": [
    "%%time\n",
    "cat_boost = get_best_model(CatBoostRegressor(random_state=1), \n",
    "                           dict(max_depth=list(range(12,15,1)), n_estimators=list(range(22, 25, 1))),\n",
    "                           'CategorianFeatures')"
   ]
  },
  {
   "cell_type": "markdown",
   "metadata": {},
   "source": [
    "###"
   ]
  },
  {
   "cell_type": "code",
   "execution_count": 179,
   "metadata": {},
   "outputs": [],
   "source": [
    "total_table = pd.DataFrame.from_dict(best_models, orient='index').T"
   ]
  },
  {
   "cell_type": "code",
   "execution_count": 180,
   "metadata": {},
   "outputs": [
    {
     "data": {
      "text/html": [
       "<div>\n",
       "<style scoped>\n",
       "    .dataframe tbody tr th:only-of-type {\n",
       "        vertical-align: middle;\n",
       "    }\n",
       "\n",
       "    .dataframe tbody tr th {\n",
       "        vertical-align: top;\n",
       "    }\n",
       "\n",
       "    .dataframe thead th {\n",
       "        text-align: right;\n",
       "    }\n",
       "</style>\n",
       "<table border=\"1\" class=\"dataframe\">\n",
       "  <thead>\n",
       "    <tr style=\"text-align: right;\">\n",
       "      <th></th>\n",
       "      <th>pre_processing</th>\n",
       "      <th>estimator</th>\n",
       "      <th>best_parameters</th>\n",
       "      <th>score</th>\n",
       "      <th>RMSE_test</th>\n",
       "      <th>fit_time</th>\n",
       "      <th>pred_time</th>\n",
       "    </tr>\n",
       "  </thead>\n",
       "  <tbody>\n",
       "    <tr>\n",
       "      <th>0</th>\n",
       "      <td>OHE</td>\n",
       "      <td>LinearRegression()</td>\n",
       "      <td>{'copy_X': True, 'fit_intercept': True, 'n_job...</td>\n",
       "      <td>2293.287388</td>\n",
       "      <td>2283.78939</td>\n",
       "      <td>0 days 00:00:16.843001</td>\n",
       "      <td>0 days 00:00:00.146447</td>\n",
       "    </tr>\n",
       "    <tr>\n",
       "      <th>1</th>\n",
       "      <td>OrdinalEncoder</td>\n",
       "      <td>RandomForestRegressor(random_state=1)</td>\n",
       "      <td>{'bootstrap': True, 'ccp_alpha': 0.0, 'criteri...</td>\n",
       "      <td>1529.468544</td>\n",
       "      <td>1489.946681</td>\n",
       "      <td>0 days 00:02:30.300952</td>\n",
       "      <td>0 days 00:00:00.593178</td>\n",
       "    </tr>\n",
       "    <tr>\n",
       "      <th>2</th>\n",
       "      <td>OHE</td>\n",
       "      <td>LGBMRegressor(random_state=1)</td>\n",
       "      <td>{'boosting_type': 'gbdt', 'class_weight': None...</td>\n",
       "      <td>1839.840714</td>\n",
       "      <td>1834.13491</td>\n",
       "      <td>0 days 00:00:44.469022</td>\n",
       "      <td>0 days 00:00:00.323584</td>\n",
       "    </tr>\n",
       "    <tr>\n",
       "      <th>3</th>\n",
       "      <td>OrdinalEncoder</td>\n",
       "      <td>LGBMRegressor(random_state=1)</td>\n",
       "      <td>{'boosting_type': 'gbdt', 'class_weight': None...</td>\n",
       "      <td>1863.302354</td>\n",
       "      <td>1854.607006</td>\n",
       "      <td>0 days 00:00:11.138993</td>\n",
       "      <td>0 days 00:00:00.072188</td>\n",
       "    </tr>\n",
       "    <tr>\n",
       "      <th>4</th>\n",
       "      <td>OHE</td>\n",
       "      <td>&lt;catboost.core.CatBoostRegressor object at 0x0...</td>\n",
       "      <td>{'loss_function': 'RMSE', 'max_depth': 14, 'n_...</td>\n",
       "      <td>1539.592932</td>\n",
       "      <td>1524.778939</td>\n",
       "      <td>0 days 00:04:51.801112</td>\n",
       "      <td>0 days 00:00:00.051138</td>\n",
       "    </tr>\n",
       "    <tr>\n",
       "      <th>5</th>\n",
       "      <td>CategorianFeatures</td>\n",
       "      <td>&lt;catboost.core.CatBoostRegressor object at 0x0...</td>\n",
       "      <td>{'loss_function': 'RMSE', 'max_depth': 13, 'n_...</td>\n",
       "      <td>1543.739221</td>\n",
       "      <td>1517.084522</td>\n",
       "      <td>0 days 00:03:14.005006</td>\n",
       "      <td>0 days 00:00:00.076095</td>\n",
       "    </tr>\n",
       "  </tbody>\n",
       "</table>\n",
       "</div>"
      ],
      "text/plain": [
       "       pre_processing                                          estimator  \\\n",
       "0                 OHE                                 LinearRegression()   \n",
       "1      OrdinalEncoder              RandomForestRegressor(random_state=1)   \n",
       "2                 OHE                      LGBMRegressor(random_state=1)   \n",
       "3      OrdinalEncoder                      LGBMRegressor(random_state=1)   \n",
       "4                 OHE  <catboost.core.CatBoostRegressor object at 0x0...   \n",
       "5  CategorianFeatures  <catboost.core.CatBoostRegressor object at 0x0...   \n",
       "\n",
       "                                     best_parameters        score  \\\n",
       "0  {'copy_X': True, 'fit_intercept': True, 'n_job...  2293.287388   \n",
       "1  {'bootstrap': True, 'ccp_alpha': 0.0, 'criteri...  1529.468544   \n",
       "2  {'boosting_type': 'gbdt', 'class_weight': None...  1839.840714   \n",
       "3  {'boosting_type': 'gbdt', 'class_weight': None...  1863.302354   \n",
       "4  {'loss_function': 'RMSE', 'max_depth': 14, 'n_...  1539.592932   \n",
       "5  {'loss_function': 'RMSE', 'max_depth': 13, 'n_...  1543.739221   \n",
       "\n",
       "     RMSE_test               fit_time              pred_time  \n",
       "0   2283.78939 0 days 00:00:16.843001 0 days 00:00:00.146447  \n",
       "1  1489.946681 0 days 00:02:30.300952 0 days 00:00:00.593178  \n",
       "2   1834.13491 0 days 00:00:44.469022 0 days 00:00:00.323584  \n",
       "3  1854.607006 0 days 00:00:11.138993 0 days 00:00:00.072188  \n",
       "4  1524.778939 0 days 00:04:51.801112 0 days 00:00:00.051138  \n",
       "5  1517.084522 0 days 00:03:14.005006 0 days 00:00:00.076095  "
      ]
     },
     "execution_count": 180,
     "metadata": {},
     "output_type": "execute_result"
    }
   ],
   "source": []
  },
  {
   "cell_type": "markdown",
   "metadata": {},
   "source": [
    "## Анализ моделей"
   ]
  },
  {
   "cell_type": "code",
   "execution_count": 181,
   "metadata": {
    "scrolled": true
   },
   "outputs": [
    {
     "data": {
      "text/html": [
       "<div>\n",
       "<style scoped>\n",
       "    .dataframe tbody tr th:only-of-type {\n",
       "        vertical-align: middle;\n",
       "    }\n",
       "\n",
       "    .dataframe tbody tr th {\n",
       "        vertical-align: top;\n",
       "    }\n",
       "\n",
       "    .dataframe thead th {\n",
       "        text-align: right;\n",
       "    }\n",
       "</style>\n",
       "<table border=\"1\" class=\"dataframe\">\n",
       "  <thead>\n",
       "    <tr style=\"text-align: right;\">\n",
       "      <th></th>\n",
       "      <th>pre_processing</th>\n",
       "      <th>estimator</th>\n",
       "      <th>best_parameters</th>\n",
       "      <th>score</th>\n",
       "      <th>RMSE_test</th>\n",
       "      <th>fit_time</th>\n",
       "      <th>pred_time</th>\n",
       "    </tr>\n",
       "  </thead>\n",
       "  <tbody>\n",
       "    <tr>\n",
       "      <th>0</th>\n",
       "      <td>OHE</td>\n",
       "      <td>LinearRegression()</td>\n",
       "      <td>{'copy_X': True, 'fit_intercept': True, 'n_job...</td>\n",
       "      <td>2293.287388</td>\n",
       "      <td>2283.78939</td>\n",
       "      <td>0 days 00:00:16.843001</td>\n",
       "      <td>0 days 00:00:00.146447</td>\n",
       "    </tr>\n",
       "    <tr>\n",
       "      <th>1</th>\n",
       "      <td>OrdinalEncoder</td>\n",
       "      <td>RandomForestRegressor(random_state=1)</td>\n",
       "      <td>{'bootstrap': True, 'ccp_alpha': 0.0, 'criteri...</td>\n",
       "      <td>1529.468544</td>\n",
       "      <td>1489.946681</td>\n",
       "      <td>0 days 00:02:30.300952</td>\n",
       "      <td>0 days 00:00:00.593178</td>\n",
       "    </tr>\n",
       "    <tr>\n",
       "      <th>2</th>\n",
       "      <td>OHE</td>\n",
       "      <td>LGBMRegressor(random_state=1)</td>\n",
       "      <td>{'boosting_type': 'gbdt', 'class_weight': None...</td>\n",
       "      <td>1839.840714</td>\n",
       "      <td>1834.13491</td>\n",
       "      <td>0 days 00:00:44.469022</td>\n",
       "      <td>0 days 00:00:00.323584</td>\n",
       "    </tr>\n",
       "    <tr>\n",
       "      <th>3</th>\n",
       "      <td>OrdinalEncoder</td>\n",
       "      <td>LGBMRegressor(random_state=1)</td>\n",
       "      <td>{'boosting_type': 'gbdt', 'class_weight': None...</td>\n",
       "      <td>1863.302354</td>\n",
       "      <td>1854.607006</td>\n",
       "      <td>0 days 00:00:11.138993</td>\n",
       "      <td>0 days 00:00:00.072188</td>\n",
       "    </tr>\n",
       "    <tr>\n",
       "      <th>4</th>\n",
       "      <td>OHE</td>\n",
       "      <td>&lt;catboost.core.CatBoostRegressor object at 0x0...</td>\n",
       "      <td>{'loss_function': 'RMSE', 'max_depth': 14, 'n_...</td>\n",
       "      <td>1539.592932</td>\n",
       "      <td>1524.778939</td>\n",
       "      <td>0 days 00:04:51.801112</td>\n",
       "      <td>0 days 00:00:00.051138</td>\n",
       "    </tr>\n",
       "    <tr>\n",
       "      <th>5</th>\n",
       "      <td>CategorianFeatures</td>\n",
       "      <td>&lt;catboost.core.CatBoostRegressor object at 0x0...</td>\n",
       "      <td>{'loss_function': 'RMSE', 'max_depth': 13, 'n_...</td>\n",
       "      <td>1543.739221</td>\n",
       "      <td>1517.084522</td>\n",
       "      <td>0 days 00:03:14.005006</td>\n",
       "      <td>0 days 00:00:00.076095</td>\n",
       "    </tr>\n",
       "  </tbody>\n",
       "</table>\n",
       "</div>"
      ],
      "text/plain": [
       "       pre_processing                                          estimator  \\\n",
       "0                 OHE                                 LinearRegression()   \n",
       "1      OrdinalEncoder              RandomForestRegressor(random_state=1)   \n",
       "2                 OHE                      LGBMRegressor(random_state=1)   \n",
       "3      OrdinalEncoder                      LGBMRegressor(random_state=1)   \n",
       "4                 OHE  <catboost.core.CatBoostRegressor object at 0x0...   \n",
       "5  CategorianFeatures  <catboost.core.CatBoostRegressor object at 0x0...   \n",
       "\n",
       "                                     best_parameters        score  \\\n",
       "0  {'copy_X': True, 'fit_intercept': True, 'n_job...  2293.287388   \n",
       "1  {'bootstrap': True, 'ccp_alpha': 0.0, 'criteri...  1529.468544   \n",
       "2  {'boosting_type': 'gbdt', 'class_weight': None...  1839.840714   \n",
       "3  {'boosting_type': 'gbdt', 'class_weight': None...  1863.302354   \n",
       "4  {'loss_function': 'RMSE', 'max_depth': 14, 'n_...  1539.592932   \n",
       "5  {'loss_function': 'RMSE', 'max_depth': 13, 'n_...  1543.739221   \n",
       "\n",
       "     RMSE_test               fit_time              pred_time  \n",
       "0   2283.78939 0 days 00:00:16.843001 0 days 00:00:00.146447  \n",
       "1  1489.946681 0 days 00:02:30.300952 0 days 00:00:00.593178  \n",
       "2   1834.13491 0 days 00:00:44.469022 0 days 00:00:00.323584  \n",
       "3  1854.607006 0 days 00:00:11.138993 0 days 00:00:00.072188  \n",
       "4  1524.778939 0 days 00:04:51.801112 0 days 00:00:00.051138  \n",
       "5  1517.084522 0 days 00:03:14.005006 0 days 00:00:00.076095  "
      ]
     },
     "execution_count": 181,
     "metadata": {},
     "output_type": "execute_result"
    }
   ],
   "source": [
    "total_table"
   ]
  },
  {
   "cell_type": "markdown",
   "metadata": {},
   "source": [
    "Лучшая модель по скорости обучения LightGBM\n",
    "Лучшая модель по уключевой метрики на тестовых данных RandomForestRegressor\n",
    "Лучшая модель по скорости предсказания CatBoostRegressor"
   ]
  },
  {
   "cell_type": "markdown",
   "metadata": {},
   "source": [
    "## Чек-лист проверки"
   ]
  },
  {
   "cell_type": "markdown",
   "metadata": {},
   "source": [
    "Поставьте 'x' в выполненных пунктах. Далее нажмите Shift+Enter."
   ]
  },
  {
   "cell_type": "markdown",
   "metadata": {},
   "source": [
    "- [x]  Jupyter Notebook открыт\n",
    "- [ ]  Весь код выполняется без ошибок\n",
    "- [ ]  Ячейки с кодом расположены в порядке исполнения\n",
    "- [ ]  Выполнена загрузка и подготовка данных\n",
    "- [ ]  Выполнено обучение моделей\n",
    "- [ ]  Есть анализ скорости работы и качества моделей"
   ]
  },
  {
   "cell_type": "code",
   "execution_count": null,
   "metadata": {},
   "outputs": [],
   "source": []
  }
 ],
 "metadata": {
  "kernelspec": {
   "display_name": "Python 3 (ipykernel)",
   "language": "python",
   "name": "python3"
  },
  "language_info": {
   "codemirror_mode": {
    "name": "ipython",
    "version": 3
   },
   "file_extension": ".py",
   "mimetype": "text/x-python",
   "name": "python",
   "nbconvert_exporter": "python",
   "pygments_lexer": "ipython3",
   "version": "3.8.8"
  },
  "toc": {
   "base_numbering": 1,
   "nav_menu": {},
   "number_sections": true,
   "sideBar": true,
   "skip_h1_title": true,
   "title_cell": "Table of Contents",
   "title_sidebar": "Contents",
   "toc_cell": false,
   "toc_position": {},
   "toc_section_display": true,
   "toc_window_display": false
  }
 },
 "nbformat": 4,
 "nbformat_minor": 2
}
